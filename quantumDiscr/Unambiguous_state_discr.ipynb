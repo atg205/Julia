{
 "cells": [
  {
   "cell_type": "code",
   "execution_count": 15,
   "metadata": {},
   "outputs": [],
   "source": [
    "using JuMP\n",
    "import LinearAlgebra\n",
    "import SCS\n",
    "import Random"
   ]
  },
  {
   "cell_type": "code",
   "execution_count": 16,
   "metadata": {},
   "outputs": [
    {
     "data": {
      "text/plain": [
       "(2, 2)"
      ]
     },
     "metadata": {},
     "output_type": "display_data"
    }
   ],
   "source": [
    "N, d = 2, 2"
   ]
  },
  {
   "cell_type": "code",
   "execution_count": 17,
   "metadata": {},
   "outputs": [
    {
     "data": {
      "text/plain": [
       "2-element Vector{Float64}:\n",
       " 0.25316816205570525\n",
       " 0.7468318379442948"
      ]
     },
     "metadata": {},
     "output_type": "display_data"
    }
   ],
   "source": [
    "Random.seed!(7);\n",
    "q = rand(N)\n",
    "sumq = sum(q)\n",
    "q = q / sumq"
   ]
  },
  {
   "cell_type": "code",
   "execution_count": 18,
   "metadata": {},
   "outputs": [
    {
     "data": {
      "text/plain": [
       "2-element Vector{LinearAlgebra.Hermitian{ComplexF64, Matrix{ComplexF64}}}:\n",
       " [0.855925063606513 + 0.0im 0.267624920054898 - 0.21908924768105717im; 0.267624920054898 + 0.21908924768105717im 0.1440749363934869 + 0.0im]\n",
       " [0.2165426668737068 + 0.0im 0.14818042420981853 + 0.265768601481561im; 0.14818042420981853 - 0.265768601481561im 0.7834573331262932 + 0.0im]"
      ]
     },
     "metadata": {},
     "output_type": "display_data"
    }
   ],
   "source": [
    "function random_state(d)\n",
    "    x = randn(ComplexF64, (d, d))\n",
    "    y = x * x'\n",
    "    return LinearAlgebra.Hermitian(y / LinearAlgebra.tr(y))\n",
    "end\n",
    "\n",
    "ρ = [random_state(d) for i in 1:N]"
   ]
  },
  {
   "cell_type": "code",
   "execution_count": 19,
   "metadata": {},
   "outputs": [],
   "source": [
    "model = Model(SCS.Optimizer)\n",
    "set_silent(model)"
   ]
  },
  {
   "cell_type": "code",
   "execution_count": 20,
   "metadata": {},
   "outputs": [
    {
     "data": {
      "text/plain": [
       "2-element Vector{LinearAlgebra.Hermitian{GenericAffExpr{ComplexF64, VariableRef}, Matrix{GenericAffExpr{ComplexF64, VariableRef}}}}:\n",
       " [_[1] _[2] + _[4] im; _[2] - _[4] im _[3]]\n",
       " [_[5] _[6] + _[8] im; _[6] - _[8] im _[7]]"
      ]
     },
     "metadata": {},
     "output_type": "display_data"
    }
   ],
   "source": [
    "E = [@variable(model, [1:d, 1:d] in HermitianPSDCone()) for i in 1:N]"
   ]
  },
  {
   "cell_type": "code",
   "execution_count": 21,
   "metadata": {},
   "outputs": [
    {
     "data": {
      "text/plain": [
       "2×2 LinearAlgebra.Hermitian{GenericAffExpr{ComplexF64, VariableRef}, Matrix{GenericAffExpr{ComplexF64, VariableRef}}}:\n",
       " _[9]              _[10] + _[12] im\n",
       " _[10] - _[12] im  _[11]"
      ]
     },
     "metadata": {},
     "output_type": "display_data"
    }
   ],
   "source": [
    "E0 = @variable(model, [1:d, 1:d] in HermitianPSDCone())"
   ]
  },
  {
   "cell_type": "code",
   "execution_count": 22,
   "metadata": {},
   "outputs": [
    {
     "data": {
      "text/latex": [
       "$$ \\begin{bmatrix}\n",
       "{\\_}_{1} + {\\_}_{5} + {\\_}_{9} - 1 & {\\_}_{2} + {\\_}_{6} + {\\_}_{10} + {\\_}_{4} im + {\\_}_{8} im + {\\_}_{12} im\\\\\n",
       "{\\_}_{2} + {\\_}_{6} + {\\_}_{10} - {\\_}_{4} im - {\\_}_{8} im - {\\_}_{12} im & {\\_}_{3} + {\\_}_{7} + {\\_}_{11} - 1\\\\\n",
       "\\end{bmatrix} \\in \\text{Zeros()} $$"
      ],
      "text/plain": [
       "[_[1] + _[5] + _[9] - 1                              …  _[2] + _[6] + _[10] + _[4] im + _[8] im + _[12] im\n",
       " _[2] + _[6] + _[10] - _[4] im - _[8] im - _[12] im     _[3] + _[7] + _[11] - 1] ∈ Zeros()"
      ]
     },
     "metadata": {},
     "output_type": "display_data"
    }
   ],
   "source": [
    "@constraint(model, (sum(E) + E0) == LinearAlgebra.I)"
   ]
  },
  {
   "cell_type": "code",
   "execution_count": 23,
   "metadata": {},
   "outputs": [],
   "source": [
    "for i in 1:N\n",
    "    @constraint(model, (q[i] * real(LinearAlgebra.tr(ρ[i] * E[i]))) == 0)\n",
    "end"
   ]
  },
  {
   "cell_type": "code",
   "execution_count": 24,
   "metadata": {},
   "outputs": [
    {
     "data": {
      "text/latex": [
       "$ 0.10834648760533676 {\\_}_{1} + 0.06775410913060358 {\\_}_{2} - 0.055466422161580424 {\\_}_{4} + 0.01823759342251586 {\\_}_{3} + 0.0808604789473248 {\\_}_{5} + 0.11066585855998404 {\\_}_{6} + 0.19848445311235902 {\\_}_{8} + 0.2925554400248226 {\\_}_{7} $"
      ],
      "text/plain": [
       "0.10834648760533676 _[1] + 0.06775410913060358 _[2] - 0.055466422161580424 _[4] + 0.01823759342251586 _[3] + 0.0808604789473248 _[5] + 0.11066585855998404 _[6] + 0.19848445311235902 _[8] + 0.2925554400248226 _[7]"
      ]
     },
     "metadata": {},
     "output_type": "display_data"
    }
   ],
   "source": [
    "@objective(\n",
    "    model,\n",
    "    Max,\n",
    "    sum(q[i] * real(LinearAlgebra.tr(ρ[i] * E[i])) for i in 1:N) / N,\n",
    ")"
   ]
  },
  {
   "cell_type": "code",
   "execution_count": 25,
   "metadata": {},
   "outputs": [
    {
     "data": {
      "text/plain": [
       "* Solver : SCS\n",
       "\n",
       "* Status\n",
       "  Result count       : 1\n",
       "  Termination status : OPTIMAL\n",
       "  Message from the solver:\n",
       "  \"solved\"\n",
       "\n",
       "* Candidate solution (result #1)\n",
       "  Primal status      : FEASIBLE_POINT\n",
       "  Dual status        : FEASIBLE_POINT\n",
       "  Objective value    : 1.05903e-07\n",
       "  Dual objective value : -9.78062e-06\n",
       "\n",
       "* Work counters\n",
       "  Solve time (sec)   : 2.48401e-02\n"
      ]
     },
     "metadata": {},
     "output_type": "display_data"
    }
   ],
   "source": [
    "optimize!(model)\n",
    "assert_is_solved_and_feasible(model)\n",
    "solution_summary(model)"
   ]
  },
  {
   "cell_type": "code",
   "execution_count": 26,
   "metadata": {},
   "outputs": [
    {
     "data": {
      "text/plain": [
       "1.0590291541516092e-7"
      ]
     },
     "metadata": {},
     "output_type": "display_data"
    }
   ],
   "source": [
    "objective_value(model)"
   ]
  },
  {
   "cell_type": "code",
   "execution_count": 27,
   "metadata": {},
   "outputs": [
    {
     "data": {
      "text/plain": [
       "2-element Vector{Matrix{ComplexF64}}:\n",
       " [2.6488240709311398e-5 + 0.0im -5.30507296105371e-5 + 3.280598885917063e-5im; -5.30507296105371e-5 - 3.280598885917063e-5im 0.00014115759539897076 + 0.0im]\n",
       " [2.675854534698188e-5 + 0.0im 3.1382937663447855e-5 - 8.296559222208811e-6im; 3.1382937663447855e-5 + 8.296559222208811e-6im -1.337980426469785e-5 + 0.0im]"
      ]
     },
     "metadata": {},
     "output_type": "display_data"
    }
   ],
   "source": [
    "solution = [value.(e) for e in E]"
   ]
  },
  {
   "cell_type": "code",
   "execution_count": 28,
   "metadata": {},
   "outputs": [
    {
     "data": {
      "text/plain": [
       "2×2 Matrix{ComplexF64}:\n",
       "   0.999947+0.0im         2.14201e-5-2.46498e-5im\n",
       " 2.14201e-5+2.46498e-5im    0.999872+0.0im"
      ]
     },
     "metadata": {},
     "output_type": "display_data"
    }
   ],
   "source": [
    "value.(E0)"
   ]
  }
 ],
 "metadata": {
  "kernelspec": {
   "display_name": "Julia 1.11.4",
   "language": "julia",
   "name": "julia-1.11"
  },
  "language_info": {
   "file_extension": ".jl",
   "mimetype": "application/julia",
   "name": "julia",
   "version": "1.11.4"
  }
 },
 "nbformat": 4,
 "nbformat_minor": 2
}
