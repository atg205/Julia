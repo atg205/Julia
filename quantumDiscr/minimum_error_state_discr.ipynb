{
 "cells": [
  {
   "cell_type": "code",
   "execution_count": 80,
   "metadata": {},
   "outputs": [],
   "source": [
    "using JuMP\n",
    "import LinearAlgebra\n",
    "import SCS\n",
    "import Random"
   ]
  },
  {
   "cell_type": "code",
   "execution_count": 81,
   "metadata": {},
   "outputs": [
    {
     "data": {
      "text/plain": [
       "(5, 2)"
      ]
     },
     "metadata": {},
     "output_type": "display_data"
    }
   ],
   "source": [
    "N, d = 5, 2"
   ]
  },
  {
   "cell_type": "code",
   "execution_count": 82,
   "metadata": {},
   "outputs": [
    {
     "data": {
      "text/plain": [
       "5-element Vector{LinearAlgebra.Hermitian{ComplexF64, Matrix{ComplexF64}}}:\n",
       " [0.1179273425604257 + 0.0im 0.24478912679331744 - 0.18036031823375892im; 0.24478912679331744 + 0.18036031823375892im 0.8820726574395743 + 0.0im]\n",
       " [0.7519808998610745 + 0.0im 0.16013356626193226 + 0.03036016590370519im; 0.16013356626193226 - 0.03036016590370519im 0.2480191001389255 + 0.0im]\n",
       " [0.33212431410756055 + 0.0im -0.30450104936885763 - 0.25777720018644174im; -0.30450104936885763 + 0.25777720018644174im 0.6678756858924395 + 0.0im]\n",
       " [0.6179389246516989 + 0.0im -0.4260278853437451 + 0.04594319908498713im; -0.4260278853437451 - 0.04594319908498713im 0.38206107534830097 + 0.0im]\n",
       " [0.7773832653285794 + 0.0im 0.26039299936342064 + 0.13647158405580734im; 0.26039299936342064 - 0.13647158405580734im 0.22261673467142062 + 0.0im]"
      ]
     },
     "metadata": {},
     "output_type": "display_data"
    }
   ],
   "source": [
    "function random_state(d)\n",
    "    x = randn(ComplexF64, (d, d))\n",
    "    y = x * x'\n",
    "    return LinearAlgebra.Hermitian(y / LinearAlgebra.tr(y))\n",
    "end\n",
    "\n",
    "ρ = [random_state(d) for i in 1:N]"
   ]
  },
  {
   "cell_type": "code",
   "execution_count": 83,
   "metadata": {},
   "outputs": [
    {
     "data": {
      "text/plain": [
       "5-element Vector{Float64}:\n",
       " 0.0766016696574427\n",
       " 0.22597061682377695\n",
       " 0.2547616658912036\n",
       " 0.14635568463058968\n",
       " 0.296310362996987"
      ]
     },
     "metadata": {},
     "output_type": "display_data"
    }
   ],
   "source": [
    "Random.seed!(7);\n",
    "q = rand(N)\n",
    "sumq = sum(q)\n",
    "q = q / sumq\n",
    "\n",
    "# q = [0.5,0.5]"
   ]
  },
  {
   "cell_type": "code",
   "execution_count": 84,
   "metadata": {},
   "outputs": [],
   "source": [
    "model = Model(SCS.Optimizer)\n",
    "set_silent(model)"
   ]
  },
  {
   "cell_type": "code",
   "execution_count": 85,
   "metadata": {},
   "outputs": [
    {
     "data": {
      "text/plain": [
       "5-element Vector{LinearAlgebra.Hermitian{GenericAffExpr{ComplexF64, VariableRef}, Matrix{GenericAffExpr{ComplexF64, VariableRef}}}}:\n",
       " [_[1] _[2] + _[4] im; _[2] - _[4] im _[3]]\n",
       " [_[5] _[6] + _[8] im; _[6] - _[8] im _[7]]\n",
       " [_[9] _[10] + _[12] im; _[10] - _[12] im _[11]]\n",
       " [_[13] _[14] + _[16] im; _[14] - _[16] im _[15]]\n",
       " [_[17] _[18] + _[20] im; _[18] - _[20] im _[19]]"
      ]
     },
     "metadata": {},
     "output_type": "display_data"
    }
   ],
   "source": [
    "E = [@variable(model, [1:d, 1:d] in HermitianPSDCone()) for i in 1:N]"
   ]
  },
  {
   "cell_type": "code",
   "execution_count": 86,
   "metadata": {},
   "outputs": [
    {
     "data": {
      "text/latex": [
       "$$ \\begin{bmatrix}\n",
       "{\\_}_{1} + {\\_}_{5} + {\\_}_{9} + {\\_}_{13} + {\\_}_{17} - 1 & {\\_}_{2} + {\\_}_{6} + {\\_}_{10} + {\\_}_{14} + {\\_}_{18} + {\\_}_{4} im + {\\_}_{8} im + {\\_}_{12} im + {\\_}_{16} im + {\\_}_{20} im\\\\\n",
       "{\\_}_{2} + {\\_}_{6} + {\\_}_{10} + {\\_}_{14} + {\\_}_{18} - {\\_}_{4} im - {\\_}_{8} im - {\\_}_{12} im - {\\_}_{16} im - {\\_}_{20} im & {\\_}_{3} + {\\_}_{7} + {\\_}_{11} + {\\_}_{15} + {\\_}_{19} - 1\\\\\n",
       "\\end{bmatrix} \\in \\text{Zeros()} $$"
      ],
      "text/plain": [
       "[_[1] + _[5] + _[9] + _[13] + _[17] - 1                                                    …  _[2] + _[6] + _[10] + _[14] + _[18] + _[4] im + _[8] im + _[12] im + _[16] im + _[20] im\n",
       " _[2] + _[6] + _[10] + _[14] + _[18] - _[4] im - _[8] im - _[12] im - _[16] im - _[20] im     _[3] + _[7] + _[11] + _[15] + _[19] - 1] ∈ Zeros()"
      ]
     },
     "metadata": {},
     "output_type": "display_data"
    }
   ],
   "source": [
    "@constraint(model, sum(E) == LinearAlgebra.I)"
   ]
  },
  {
   "cell_type": "code",
   "execution_count": 87,
   "metadata": {},
   "outputs": [
    {
     "data": {
      "text/latex": [
       "$ 0.0018066862676787622 {\\_}_{1} + 0.007500502330542223 {\\_}_{2} - 0.005526360606661456 {\\_}_{4} + 0.013513647663809778 {\\_}_{3} + 0.03398511755626117 {\\_}_{5} + 0.014474192296959995 {\\_}_{6} + 0.0027442021664529853 {\\_}_{8} + 0.01120900580849422 {\\_}_{7} + 0.0169225087090031 {\\_}_{9} - 0.03103007784113192 {\\_}_{10} - 0.02626869957930727 {\\_}_{12} + 0.03402982446923762 {\\_}_{11} + 0.01808777487545795 {\\_}_{13} - 0.02494064113248247 {\\_}_{14} + 0.0026896193424811093 {\\_}_{16} + 0.01118336205065998 {\\_}_{15} + 0.04606934350745888 {\\_}_{17} + 0.030862857665299746 {\\_}_{18} + 0.016175177844140038 {\\_}_{20} + 0.013192729091938516 {\\_}_{19} $"
      ],
      "text/plain": [
       "0.0018066862676787622 _[1] + 0.007500502330542223 _[2] - 0.005526360606661456 _[4] + 0.013513647663809778 _[3] + 0.03398511755626117 _[5] + 0.014474192296959995 _[6] + 0.0027442021664529853 _[8] + 0.01120900580849422 _[7] + 0.0169225087090031 _[9] - 0.03103007784113192 _[10] - 0.02626869957930727 _[12] + 0.03402982446923762 _[11] + 0.01808777487545795 _[13] - 0.02494064113248247 _[14] + 0.0026896193424811093 _[16] + 0.01118336205065998 _[15] + 0.04606934350745888 _[17] + 0.030862857665299746 _[18] + 0.016175177844140038 _[20] + 0.013192729091938516 _[19]"
      ]
     },
     "metadata": {},
     "output_type": "display_data"
    }
   ],
   "source": [
    "@objective(\n",
    "    model,\n",
    "    Max,\n",
    "    sum(q[i] * real(LinearAlgebra.tr(ρ[i] * E[i])) for i in 1:N) / N,\n",
    ")"
   ]
  },
  {
   "cell_type": "code",
   "execution_count": 88,
   "metadata": {},
   "outputs": [
    {
     "data": {
      "text/plain": [
       "* Solver : SCS\n",
       "\n",
       "* Status\n",
       "  Result count       : 1\n",
       "  Termination status : OPTIMAL\n",
       "  Message from the solver:\n",
       "  \"solved\"\n",
       "\n",
       "* Candidate solution (result #1)\n",
       "  Primal status      : FEASIBLE_POINT\n",
       "  Dual status        : FEASIBLE_POINT\n",
       "  Objective value    : 1.00205e-01\n",
       "  Dual objective value : 1.00192e-01\n",
       "\n",
       "* Work counters\n",
       "  Solve time (sec)   : 4.87401e-03\n"
      ]
     },
     "metadata": {},
     "output_type": "display_data"
    }
   ],
   "source": [
    "optimize!(model)\n",
    "assert_is_solved_and_feasible(model)\n",
    "solution_summary(model)"
   ]
  },
  {
   "cell_type": "code",
   "execution_count": 89,
   "metadata": {},
   "outputs": [
    {
     "data": {
      "text/plain": [
       "0.10020497623830785"
      ]
     },
     "metadata": {},
     "output_type": "display_data"
    }
   ],
   "source": [
    "objective_value(model)"
   ]
  },
  {
   "cell_type": "code",
   "execution_count": 90,
   "metadata": {},
   "outputs": [
    {
     "data": {
      "text/plain": [
       "2×2 Matrix{ComplexF64}:\n",
       " -1.17398e-5+0.0im         4.26582e-5+2.9219e-5im\n",
       "  4.26582e-5-2.9219e-5im  -8.10565e-5+0.0im"
      ]
     },
     "metadata": {},
     "output_type": "display_data"
    }
   ],
   "source": [
    "value.(E[1])"
   ]
  },
  {
   "cell_type": "code",
   "execution_count": 91,
   "metadata": {},
   "outputs": [
    {
     "data": {
      "text/plain": [
       "2×2 Matrix{ComplexF64}:\n",
       " -1.17398e-5-0.0im         4.26582e-5-2.9219e-5im\n",
       "  4.26582e-5+2.9219e-5im  -8.10565e-5-0.0im"
      ]
     },
     "metadata": {},
     "output_type": "display_data"
    }
   ],
   "source": [
    "conj(value.(E[1]))"
   ]
  },
  {
   "cell_type": "code",
   "execution_count": null,
   "metadata": {},
   "outputs": [
    {
     "name": "stdout",
     "output_type": "stream",
     "text": [
      "ComplexF64[3.99362540883624e-11 - 1.7179484827559902e-13im -4.422435547938972e-11 - 1.529884895323742e-11im; -4.139047342975439e-11 + 1.3636920873554035e-11im -1.3552051173326323e-10 + 1.7179475525693467e-13im]\n",
      "ComplexF64[4.191508476493772e-6 + 7.586507946769988e-8im -6.375417799508489e-6 - 4.543790422687032e-6im; -7.103595317682587e-6 + 4.918307161939963e-6im 1.6135187228831923e-5 - 7.231571058318425e-8im]\n",
      "ComplexF64[-4.832056774275865e-11 - 6.988871498018648e-13im 1.0594176399730141e-10 + 2.0339382535097233e-10im; 1.0800690503904092e-10 - 2.036727101303167e-10im -6.070536477038405e-10 + 6.988867123290642e-13im]\n",
      "ComplexF64[-7.291917282254567e-7 + 5.295274850179085e-7im -4.825500756270673e-7 + 1.2922397161919505e-8im; -5.244397282275116e-6 + 2.3892615158891114e-6im -3.0393592030074518e-6 - 5.330775296079642e-7im]\n",
      "ComplexF64[4.4585898204665516e-6 + 2.5072102866164974e-8im -6.840433563391231e-6 - 4.747677330510693e-6im; -6.7555388251735465e-6 + 4.649213630245677e-6im 1.5315130534130524e-5 - 2.5456692985454445e-8im]\n",
      "ComplexF64[-9.016681964123368e-11 + 7.045748762439893e-13im 1.5222827206100585e-10 + 2.1700972228776452e-10im; 1.513935097113107e-10 - 2.1757600749050077e-10im -4.696241957597832e-10 - 7.045745460639781e-13im]\n",
      "ComplexF64[-1.486993922954433e-6 + 2.0662844075127942e-7im -7.193535354608487e-7 - 3.59136869040465e-7im; -1.356256392319631e-7 - 3.7403226893014127e-7im 5.3653810817071285e-8 - 2.0624374751168452e-7im]\n",
      "ComplexF64[-3.3348114592486037e-6 - 3.49089178592839e-7im 4.972871202027062e-6 + 3.185591454929854e-6im; 5.504827191191924e-6 - 2.9846133866320643e-6im -1.1023681538037419e-5 + 3.4611115072848556e-7im]\n",
      "ComplexF64[-7.991911867233359e-6 - 7.609138448168524e-10im 6.2890993998455935e-6 + 4.3123322760914296e-6im; 6.290053267347939e-6 - 4.311757394515059e-6im -1.814928215040229e-5 + 7.609141884577675e-10im]\n",
      "ComplexF64[-3.659508838533294e-6 - 2.290689844826972e-6im -9.226595492160616e-7 - 2.120135047902556e-6im; 2.622796051109174e-6 + 3.3953973552505227e-6im 1.308682123819047e-7 + 2.293668224316159e-6im]\n"
     ]
    }
   ],
   "source": [
    "# #Optimality condition\n",
    "for i in  1:N\n",
    "    for j in (i+1):N\n",
    "        print(value.(E[i]) * (q[i] * ρ[i] - q[j] * ρ[j]) * value.(E[j]))\n",
    "        print(\"\\n\")\n",
    "    end\n",
    "end"
   ]
  },
  {
   "cell_type": "code",
   "execution_count": 93,
   "metadata": {},
   "outputs": [
    {
     "data": {
      "text/plain": [
       "5-element Vector{Matrix{ComplexF64}}:\n",
       " [-1.1739840657904685e-5 + 0.0im 4.2658184583799855e-5 + 2.921896058330328e-5im; 4.2658184583799855e-5 - 2.921896058330328e-5im -8.105654104442194e-5 + 0.0im]\n",
       " [-1.2236470070209153e-5 + 0.0im 4.260436999762662e-5 + 2.915513828617942e-5im; 4.260436999762662e-5 - 2.915513828617942e-5im -8.102097209663891e-5 + 0.0im]\n",
       " [0.22294402274831474 + 0.0im -0.34334572865146734 - 0.23545358303980066im; -0.34334572865146734 + 0.23545358303980066im 0.7775071067128232 + 0.0im]\n",
       " [-1.1991116656683438e-5 + 0.0im 4.290852647129595e-5 + 2.9155559491028954e-5im; 4.290852647129595e-5 - 2.9155559491028954e-5im -8.102057632088214e-5 + 0.0im]\n",
       " [0.7770919949757022 + 0.0im 0.3432172981428008 + 0.23536587618483232im; 0.3432172981428008 - 0.23536587618483232im 0.22273633857597464 + 0.0im]"
      ]
     },
     "metadata": {},
     "output_type": "display_data"
    }
   ],
   "source": [
    "solution = [value.(e) for e in E]"
   ]
  }
 ],
 "metadata": {
  "kernelspec": {
   "display_name": "Julia 1.11.4",
   "language": "julia",
   "name": "julia-1.11"
  },
  "language_info": {
   "file_extension": ".jl",
   "mimetype": "application/julia",
   "name": "julia",
   "version": "1.11.4"
  }
 },
 "nbformat": 4,
 "nbformat_minor": 2
}
