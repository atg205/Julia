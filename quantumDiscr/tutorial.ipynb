{
 "cells": [
  {
   "cell_type": "code",
   "execution_count": 13,
   "metadata": {},
   "outputs": [],
   "source": [
    "using JuMP\n",
    "import LinearAlgebra\n",
    "import SCS"
   ]
  },
  {
   "cell_type": "code",
   "execution_count": 14,
   "metadata": {},
   "outputs": [
    {
     "data": {
      "text/plain": [
       "(2, 2)"
      ]
     },
     "metadata": {},
     "output_type": "display_data"
    }
   ],
   "source": [
    "N, d = 2, 2"
   ]
  },
  {
   "cell_type": "code",
   "execution_count": 15,
   "metadata": {},
   "outputs": [
    {
     "data": {
      "text/plain": [
       "2-element Vector{LinearAlgebra.Hermitian{ComplexF64, Matrix{ComplexF64}}}:\n",
       " [0.7137236111327925 + 0.0im -0.1299712100438686 + 0.14187194750338206im; -0.1299712100438686 - 0.14187194750338206im 0.2862763888672076 + 0.0im]\n",
       " [0.2080932422704056 + 0.0im 0.2617946248567618 - 0.18260830915594517im; 0.2617946248567618 + 0.18260830915594517im 0.7919067577295944 + 0.0im]"
      ]
     },
     "metadata": {},
     "output_type": "display_data"
    }
   ],
   "source": [
    "function random_state(d)\n",
    "    x = randn(ComplexF64, (d, d))\n",
    "    y = x * x'\n",
    "    return LinearAlgebra.Hermitian(y / LinearAlgebra.tr(y))\n",
    "end\n",
    "\n",
    "ρ = [random_state(d) for i in 1:N]"
   ]
  },
  {
   "cell_type": "code",
   "execution_count": 16,
   "metadata": {},
   "outputs": [],
   "source": [
    "model = Model(SCS.Optimizer)\n",
    "set_silent(model)"
   ]
  },
  {
   "cell_type": "code",
   "execution_count": 17,
   "metadata": {},
   "outputs": [
    {
     "data": {
      "text/plain": [
       "2-element Vector{LinearAlgebra.Hermitian{GenericAffExpr{ComplexF64, VariableRef}, Matrix{GenericAffExpr{ComplexF64, VariableRef}}}}:\n",
       " [_[1] _[2] + _[4] im; _[2] - _[4] im _[3]]\n",
       " [_[5] _[6] + _[8] im; _[6] - _[8] im _[7]]"
      ]
     },
     "metadata": {},
     "output_type": "display_data"
    }
   ],
   "source": [
    "E = [@variable(model, [1:d, 1:d] in HermitianPSDCone()) for i in 1:N]"
   ]
  },
  {
   "cell_type": "code",
   "execution_count": 18,
   "metadata": {},
   "outputs": [
    {
     "data": {
      "text/latex": [
       "$$ \\begin{bmatrix}\n",
       "{\\_}_{1} + {\\_}_{5} - 1 & {\\_}_{2} + {\\_}_{6} + {\\_}_{4} im + {\\_}_{8} im\\\\\n",
       "{\\_}_{2} + {\\_}_{6} - {\\_}_{4} im - {\\_}_{8} im & {\\_}_{3} + {\\_}_{7} - 1\\\\\n",
       "\\end{bmatrix} \\in \\text{Zeros()} $$"
      ],
      "text/plain": [
       "[_[1] + _[5] - 1                  _[2] + _[6] + _[4] im + _[8] im\n",
       " _[2] + _[6] - _[4] im - _[8] im  _[3] + _[7] - 1] ∈ Zeros()"
      ]
     },
     "metadata": {},
     "output_type": "display_data"
    }
   ],
   "source": [
    "@constraint(model, sum(E) == LinearAlgebra.I)"
   ]
  },
  {
   "cell_type": "code",
   "execution_count": 19,
   "metadata": {},
   "outputs": [
    {
     "data": {
      "text/latex": [
       "$$ \\begin{bmatrix}\n",
       "{\\_}_{1} + {\\_}_{5} - 1 & {\\_}_{2} + {\\_}_{6} + {\\_}_{4} im + {\\_}_{8} im\\\\\n",
       "{\\_}_{2} + {\\_}_{6} - {\\_}_{4} im - {\\_}_{8} im & {\\_}_{3} + {\\_}_{7} - 1\\\\\n",
       "\\end{bmatrix} \\in \\text{Zeros()} $$"
      ],
      "text/plain": [
       "[_[1] + _[5] - 1                  _[2] + _[6] + _[4] im + _[8] im\n",
       " _[2] + _[6] - _[4] im - _[8] im  _[3] + _[7] - 1] ∈ Zeros()"
      ]
     },
     "metadata": {},
     "output_type": "display_data"
    }
   ],
   "source": [
    "@constraint(model, sum(E) == LinearAlgebra.I)"
   ]
  },
  {
   "cell_type": "code",
   "execution_count": 20,
   "metadata": {},
   "outputs": [
    {
     "data": {
      "text/latex": [
       "$ 0.35686180556639624 {\\_}_{1} - 0.1299712100438686 {\\_}_{2} + 0.14187194750338206 {\\_}_{4} + 0.1431381944336038 {\\_}_{3} + 0.1040466211352028 {\\_}_{5} + 0.2617946248567618 {\\_}_{6} - 0.18260830915594517 {\\_}_{8} + 0.3959533788647972 {\\_}_{7} $"
      ],
      "text/plain": [
       "0.35686180556639624 _[1] - 0.1299712100438686 _[2] + 0.14187194750338206 _[4] + 0.1431381944336038 _[3] + 0.1040466211352028 _[5] + 0.2617946248567618 _[6] - 0.18260830915594517 _[8] + 0.3959533788647972 _[7]"
      ]
     },
     "metadata": {},
     "output_type": "display_data"
    }
   ],
   "source": [
    "@objective(\n",
    "    model,\n",
    "    Max,\n",
    "    sum(real(LinearAlgebra.tr(ρ[i] * E[i])) for i in 1:N) / N,\n",
    ")"
   ]
  },
  {
   "cell_type": "code",
   "execution_count": 21,
   "metadata": {},
   "outputs": [
    {
     "data": {
      "text/plain": [
       "* Solver : SCS\n",
       "\n",
       "* Status\n",
       "  Result count       : 1\n",
       "  Termination status : OPTIMAL\n",
       "  Message from the solver:\n",
       "  \"solved\"\n",
       "\n",
       "* Candidate solution (result #1)\n",
       "  Primal status      : FEASIBLE_POINT\n",
       "  Dual status        : FEASIBLE_POINT\n",
       "  Objective value    : 8.58617e-01\n",
       "  Dual objective value : 8.58618e-01\n",
       "\n",
       "* Work counters\n",
       "  Solve time (sec)   : 1.02814e-01\n"
      ]
     },
     "metadata": {},
     "output_type": "display_data"
    }
   ],
   "source": [
    "optimize!(model)\n",
    "assert_is_solved_and_feasible(model)\n",
    "solution_summary(model)"
   ]
  },
  {
   "cell_type": "code",
   "execution_count": 22,
   "metadata": {},
   "outputs": [
    {
     "data": {
      "text/plain": [
       "0.858617382249673"
      ]
     },
     "metadata": {},
     "output_type": "display_data"
    }
   ],
   "source": [
    "objective_value(model)"
   ]
  },
  {
   "cell_type": "code",
   "execution_count": 23,
   "metadata": {},
   "outputs": [
    {
     "data": {
      "text/plain": [
       "0.85861887020659"
      ]
     },
     "metadata": {},
     "output_type": "display_data"
    }
   ],
   "source": [
    "0.5 + 0.25 * sum(LinearAlgebra.svdvals(ρ[1] - ρ[2]))"
   ]
  },
  {
   "cell_type": "code",
   "execution_count": 24,
   "metadata": {},
   "outputs": [
    {
     "data": {
      "text/plain": [
       "2-element Vector{Matrix{ComplexF64}}:\n",
       " [0.8524830349008435 + 0.0im -0.2731062441756322 + 0.22620038888593266im; -0.2731062441756322 - 0.22620038888593266im 0.147516962420438 + 0.0im]\n",
       " [0.1475169623011509 + 0.0im 0.2731062441889881 - 0.22620038888999766im; 0.2731062441889881 + 0.22620038888999766im 0.8524830347926187 + 0.0im]"
      ]
     },
     "metadata": {},
     "output_type": "display_data"
    }
   ],
   "source": [
    "solution = [value.(e) for e in E]"
   ]
  }
 ],
 "metadata": {
  "kernelspec": {
   "display_name": "Julia 1.11.4",
   "language": "julia",
   "name": "julia-1.11"
  },
  "language_info": {
   "file_extension": ".jl",
   "mimetype": "application/julia",
   "name": "julia",
   "version": "1.11.4"
  }
 },
 "nbformat": 4,
 "nbformat_minor": 2
}
