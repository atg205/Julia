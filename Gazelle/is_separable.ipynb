{
 "cells": [
  {
   "cell_type": "code",
   "execution_count": 154,
   "metadata": {},
   "outputs": [],
   "source": [
    "using IJulia\n",
    "using Ket\n",
    "using JuMP\n",
    "import LinearAlgebra\n",
    "import SCS\n",
    "import Hypatia"
   ]
  },
  {
   "cell_type": "code",
   "execution_count": 155,
   "metadata": {},
   "outputs": [
    {
     "data": {
      "text/plain": [
       "2×2 LinearAlgebra.Hermitian{ComplexF64, Matrix{ComplexF64}}:\n",
       " 0.563186+0.0im       0.156444+0.261459im\n",
       " 0.156444-0.261459im  0.436814+0.0im"
      ]
     },
     "metadata": {},
     "output_type": "display_data"
    }
   ],
   "source": [
    "k, d = 3, 2\n",
    "ρ = Ket.random_state(d, k)"
   ]
  },
  {
   "cell_type": "code",
   "execution_count": 156,
   "metadata": {},
   "outputs": [
    {
     "data": {
      "text/plain": [
       "2×2 LinearAlgebra.Hermitian{ComplexF64, Matrix{ComplexF64}}:\n",
       " 0.563186+0.0im       0.156444+0.261459im\n",
       " 0.156444-0.261459im  0.436814+0.0im"
      ]
     },
     "metadata": {},
     "output_type": "display_data"
    }
   ],
   "source": [
    "X = ρ"
   ]
  },
  {
   "cell_type": "code",
   "execution_count": 157,
   "metadata": {},
   "outputs": [],
   "source": [
    "X = Matrix(X)\n",
    "if ! LinearAlgebra.isposdef(X)\n",
    "    error(\"X is not positive semidefinite, so the idea of it being separable does not make sense.\")\n",
    "end"
   ]
  },
  {
   "cell_type": "code",
   "execution_count": 158,
   "metadata": {},
   "outputs": [
    {
     "data": {
      "text/plain": [
       "-1"
      ]
     },
     "metadata": {},
     "output_type": "display_data"
    }
   ],
   "source": [
    "lX = LinearAlgebra.length(X)\n",
    "rX = LinearAlgebra.rank(X)\n",
    "X = X / LinearAlgebra.tr(X)\n",
    "sep = -1"
   ]
  },
  {
   "cell_type": "code",
   "execution_count": 159,
   "metadata": {},
   "outputs": [
    {
     "data": {
      "text/plain": [
       "1.3486991523486091e-6"
      ]
     },
     "metadata": {},
     "output_type": "display_data"
    }
   ],
   "source": [
    "dim = round(sqrt(lX))\n",
    "str = 2\n",
    "verbose = 1\n",
    "tol = eps() ^ (3/8)"
   ]
  },
  {
   "cell_type": "code",
   "execution_count": 160,
   "metadata": {},
   "outputs": [
    {
     "data": {
      "text/plain": [
       "2.0"
      ]
     },
     "metadata": {},
     "output_type": "display_data"
    }
   ],
   "source": [
    "if length(dim) == 1\n",
    "    dim = [dim, lX / dim]\n",
    "    if abs(dim[2] - round(dim[2])) >= 2 * lX * eps()\n",
    "        error(\"IsSeparable:InvalidDim','If DIM is a scalar, it must evenly divide length(X); please provide the DIM array containing the dimensions of the subsystems.\");\n",
    "    end\n",
    "    dim[2] = round(dim[2])\n",
    "end"
   ]
  },
  {
   "cell_type": "code",
   "execution_count": 161,
   "metadata": {},
   "outputs": [
    {
     "data": {
      "text/plain": [
       "4.0"
      ]
     },
     "metadata": {},
     "output_type": "display_data"
    }
   ],
   "source": [
    "nD = minimum(dim)\n",
    "xD = maximum(dim)\n",
    "pD = prod(dim)"
   ]
  },
  {
   "cell_type": "code",
   "execution_count": 162,
   "metadata": {},
   "outputs": [],
   "source": [
    "if nD == 1\n",
    "    sep = 1\n",
    "    if Bool(verbose)\n",
    "        println(\"Every positive semidefinite matrix is separable when one of the local dimensions is 1.\")\n",
    "    end\n",
    "\n",
    "    return\n",
    "end"
   ]
  },
  {
   "cell_type": "code",
   "execution_count": 163,
   "metadata": {},
   "outputs": [
    {
     "data": {
      "text/plain": [
       "2-element Vector{Float64}:\n",
       " 2.0\n",
       " 2.0"
      ]
     },
     "metadata": {},
     "output_type": "display_data"
    }
   ],
   "source": [
    "dim"
   ]
  },
  {
   "cell_type": "code",
   "execution_count": 164,
   "metadata": {},
   "outputs": [
    {
     "data": {
      "text/plain": [
       "2×2 Matrix{ComplexF64}:\n",
       " 0.563186+2.54931e-314im  0.156444+0.261459im\n",
       " 0.156444-0.261459im      0.436814+2.57676e-314im"
      ]
     },
     "metadata": {},
     "output_type": "display_data"
    }
   ],
   "source": [
    "XA = Ket.partial_trace(X, [2], Int.(dim))\n",
    "XB = Ket.partial_trace(X, [1], Int.(dim))"
   ]
  },
  {
   "cell_type": "code",
   "execution_count": 165,
   "metadata": {},
   "outputs": [
    {
     "data": {
      "text/plain": [
       "19-element Vector{String}:\n",
       " \"A. Peres. Separability criterio\"\u001b[93m\u001b[1m ⋯ 30 bytes ⋯ \u001b[22m\u001b[39m\"Rev. Lett., 77:1413–1415, 1996.\"\n",
       " \"M. Horodecki, P. Horodecki, and\"\u001b[93m\u001b[1m ⋯ 80 bytes ⋯ \u001b[22m\u001b[39m\". Phys. Lett. A, 223:1–8, 1996.\"\n",
       " \"P. Horodecki, M. Lewenstein, G.\"\u001b[93m\u001b[1m ⋯ 119 bytes ⋯ \u001b[22m\u001b[39m\"Phys. Rev. A, 62:032310, 2000.\"\n",
       " \"K. Chen and L.-A. Wu. A matrix \"\u001b[93m\u001b[1m ⋯ 56 bytes ⋯ \u001b[22m\u001b[39m\" Inf. Comput., 3:193–202, 2003.\"\n",
       " \"F. Verstraete, J. Dehaene, and \"\u001b[93m\u001b[1m ⋯ 83 bytes ⋯ \u001b[22m\u001b[39m\" Phys. Rev. A, 68:012103, 2003.\"\n",
       " \"K.-C. Ha and S.-H. Kye. Entangl\"\u001b[93m\u001b[1m ⋯ 82 bytes ⋯ \u001b[22m\u001b[39m\"ion Dynamics, 18:323–337, 2011.\"\n",
       " \"O. Gittsovich, O. Guehne, P. Hy\"\u001b[93m\u001b[1m ⋯ 101 bytes ⋯ \u001b[22m\u001b[39m\"Phys. Rev. A, 78:052319, 2008.\"\n",
       " \"L. Gurvits and H. Barnum. Large\"\u001b[93m\u001b[1m ⋯ 70 bytes ⋯ \u001b[22m\u001b[39m\" Phys. Rev. A, 66:062311, 2002.\"\n",
       " \"H.-P. Breuer. Optimal entanglem\"\u001b[93m\u001b[1m ⋯ 43 bytes ⋯ \u001b[22m\u001b[39m\"s. Rev. Lett., 97:080501, 2006.\"\n",
       " \"W. Hall. Constructions of indec\"\u001b[93m\u001b[1m ⋯ 79 bytes ⋯ \u001b[22m\u001b[39m\": arXiv:quant-ph/0607035, 2006.\"\n",
       " \"A. C. Doherty, P. A. Parrilo, a\"\u001b[93m\u001b[1m ⋯ 64 bytes ⋯ \u001b[22m\u001b[39m\" Phys. Rev. A, 69:022308, 2004.\"\n",
       " \"M. Navascues, M. Owari, and M. \"\u001b[93m\u001b[1m ⋯ 64 bytes ⋯ \u001b[22m\u001b[39m\". Rev. Lett., 103:160404, 2009.\"\n",
       " \"N. Johnston. Separability from \"\u001b[93m\u001b[1m ⋯ 32 bytes ⋯ \u001b[22m\u001b[39m\" Phys. Rev. A, 88:062330, 2013.\"\n",
       " \"C.-J. Zhang, Y.-S. Zhang, S. Zh\"\u001b[93m\u001b[1m ⋯ 93 bytes ⋯ \u001b[22m\u001b[39m\"ys. Rev. A, 77:060301(R), 2008.\"\n",
       " \"R. Hildebrand. Semidefinite des\"\u001b[93m\u001b[1m ⋯ 62 bytes ⋯ \u001b[22m\u001b[39m\"gebra Appl., 429:901–932, 2008.\"\n",
       " \"R. Hildebrand. Comparison of th\"\u001b[93m\u001b[1m ⋯ 101 bytes ⋯ \u001b[22m\u001b[39m\"d/coreMPseminar2005_slides.pdf\"\n",
       " \"D. Cariello. Separability for w\"\u001b[93m\u001b[1m ⋯ 37 bytes ⋯ \u001b[22m\u001b[39m\"Xiv:1311.7275 [quant-ph], 2013.\"\n",
       " \"L. Chen and D. Z. Djokovic. Sep\"\u001b[93m\u001b[1m ⋯ 75 bytes ⋯ \u001b[22m\u001b[39m\" Math. Theor., 46:275304, 2013.\"\n",
       " \"G. Vidal and R. Tarrach. Robust\"\u001b[93m\u001b[1m ⋯ 22 bytes ⋯ \u001b[22m\u001b[39m\"Phys. Rev. A, 59:141–155, 1999.\""
      ]
     },
     "metadata": {},
     "output_type": "display_data"
    }
   ],
   "source": [
    "refs = [\n",
    "    \"A. Peres. Separability criterion for density matrices. Phys. Rev. Lett., 77:1413–1415, 1996.\",\n",
    "    \"M. Horodecki, P. Horodecki, and R. Horodecki. Separability of mixed states: Necessary and sufficient conditions. Phys. Lett. A, 223:1–8, 1996.\",\n",
    "    \"P. Horodecki, M. Lewenstein, G. Vidal, and I. Cirac. Operational criterion and constructive checks for the separability of low-rank density matrices. Phys. Rev. A, 62:032310, 2000.\",\n",
    "    \"K. Chen and L.-A. Wu. A matrix realignment method for recognizing entanglement. Quantum Inf. Comput., 3:193–202, 2003.\",\n",
    "    \"F. Verstraete, J. Dehaene, and B. De Moor. Normal forms and entanglement measures for multipartite quantum states. Phys. Rev. A, 68:012103, 2003.\",\n",
    "    \"K.-C. Ha and S.-H. Kye. Entanglement witnesses arising from exposed positive linear maps. Open Systems & Information Dynamics, 18:323–337, 2011.\",\n",
    "    \"O. Gittsovich, O. Guehne, P. Hyllus, and J. Eisert. Unifying several separability conditions using the covariance matrix criterion. Phys. Rev. A, 78:052319, 2008.\",\n",
    "    \"L. Gurvits and H. Barnum. Largest separable balls around the maximally mixed bipartite quantum state. Phys. Rev. A, 66:062311, 2002.\",\n",
    "    \"H.-P. Breuer. Optimal entanglement criterion for mixed quantum states. Phys. Rev. Lett., 97:080501, 2006.\",\n",
    "    \"W. Hall. Constructions of indecomposable positive maps based on a new criterion for indecomposability. E-print: arXiv:quant-ph/0607035, 2006.\",\n",
    "    \"A. C. Doherty, P. A. Parrilo, and F. M. Spedalieri. A complete family of separability criteria. Phys. Rev. A, 69:022308, 2004.\",\n",
    "    \"M. Navascues, M. Owari, and M. B. Plenio. A complete criterion for separability detection. Phys. Rev. Lett., 103:160404, 2009.\",\n",
    "    \"N. Johnston. Separability from spectrum for qubit-qudit states. Phys. Rev. A, 88:062330, 2013.\",\n",
    "    \"C.-J. Zhang, Y.-S. Zhang, S. Zhang, and G.-C. Guo. Entanglement detection beyond the cross-norm or realignment criterion. Phys. Rev. A, 77:060301(R), 2008.\",\n",
    "    \"R. Hildebrand. Semidefinite descriptions of low-dimensional separable matrix cones. Linear Algebra Appl., 429:901–932, 2008.\",\n",
    "    \"R. Hildebrand. Comparison of the PPT cone and the separable cone for 2-by-n systems. http://www-ljk.imag.fr/membres/Roland.Hildebrand/coreMPseminar2005_slides.pdf\",\n",
    "    \"D. Cariello. Separability for weak irreducible matrices. E-print: arXiv:1311.7275 [quant-ph], 2013.\",\n",
    "    \"L. Chen and D. Z. Djokovic. Separability problem for multipartite states of rank at most four. J. Phys. A: Math. Theor., 46:275304, 2013.\",\n",
    "    \"G. Vidal and R. Tarrach. Robustness of entanglement. Phys. Rev. A, 59:141–155, 1999.\"\n",
    "]\n"
   ]
  },
  {
   "cell_type": "code",
   "execution_count": 166,
   "metadata": {},
   "outputs": [
    {
     "data": {
      "text/plain": [
       "true"
      ]
     },
     "metadata": {},
     "output_type": "display_data"
    }
   ],
   "source": [
    "function is_ppt(ρ::AbstractMatrix, dims::Vector{Int}, sys::Int=2; atol=1e-10)\n",
    "    ρ_pt = partial_transpose(ρ, [sys], dims)\n",
    "    λs = LinearAlgebra.eigen(ρ_pt).values\n",
    "    return all(λs .>= -atol)\n",
    "end\n",
    "\n",
    "ppt = is_ppt(X, Int.(dim))\n"
   ]
  },
  {
   "cell_type": "code",
   "execution_count": 167,
   "metadata": {},
   "outputs": [
    {
     "name": "stdout",
     "output_type": "stream",
     "text": [
      "Determined to be separable via sufficiency of the PPT criterion in small dimensions. Reference:\n",
      "M. Horodecki, P. Horodecki, and R. Horodecki. Separability of mixed states: Necessary and sufficient conditions. Phys. Lett. A, 223:1–8, 1996.\n",
      "\n"
     ]
    }
   ],
   "source": [
    "if !ppt\n",
    "    sep = 0\n",
    "    if Bool(verbose)\n",
    "        println(\"Determined to be entangled via the PPT criterion. Reference:\\n\", refs[1], \"\\n\")\n",
    "    end\n",
    "    return\n",
    "\n",
    "elseif pD <= 6 || minimum(dim) <= 1\n",
    "    sep = 1\n",
    "    if Bool(verbose)\n",
    "        println(\"Determined to be separable via sufficiency of the PPT criterion in small dimensions. Reference:\\n\", refs[2], \"\\n\")\n",
    "    end\n",
    "    return\n",
    "\n",
    "elseif rX <= 3 || rX <= LinearAlgebra.rank(XB) || rX <= LinearAlgebra.rank(XA)\n",
    "    sep = 1\n",
    "    if Bool(verbose)\n",
    "        (\"Determined to be separable via sufficiency of the PPT criterion for low-rank operators. Reference:\\n\", refs[3], \"\\n\")\n",
    "    end\n",
    "    return\n",
    "end"
   ]
  }
 ],
 "metadata": {
  "kernelspec": {
   "display_name": "Julia 1.11.3",
   "language": "julia",
   "name": "julia-1.11"
  },
  "language_info": {
   "file_extension": ".jl",
   "mimetype": "application/julia",
   "name": "julia",
   "version": "1.11.3"
  }
 },
 "nbformat": 4,
 "nbformat_minor": 2
}
