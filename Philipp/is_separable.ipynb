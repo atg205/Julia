{
 "cells": [
  {
   "cell_type": "markdown",
   "metadata": {},
   "source": [
    "# Implementation of is_seperable() function\n",
    "## Step 1: Determine if the state is PSD"
   ]
  },
  {
   "cell_type": "code",
   "execution_count": 111,
   "metadata": {},
   "outputs": [],
   "source": [
    "using LinearAlgebra\n",
    "using Ket\n",
    "using TensorCore"
   ]
  },
  {
   "cell_type": "code",
   "execution_count": 112,
   "metadata": {},
   "outputs": [
    {
     "data": {
      "text/plain": [
       "1.8189894035458565e-12"
      ]
     },
     "execution_count": 112,
     "metadata": {},
     "output_type": "execute_result"
    }
   ],
   "source": [
    "tol = eps()^(3/4)\n",
    "tol"
   ]
  },
  {
   "cell_type": "code",
   "execution_count": 113,
   "metadata": {},
   "outputs": [
    {
     "data": {
      "text/plain": [
       "has_positive_eigenvals (generic function with 1 method)"
      ]
     },
     "execution_count": 113,
     "metadata": {},
     "output_type": "execute_result"
    }
   ],
   "source": [
    "function has_positive_eigenvals(X)\n",
    "    for i in eigvals(X)\n",
    "        if !(i >= tol)\n",
    "            print(i)\n",
    "            return false\n",
    "        end\n",
    "    end\n",
    "    return true\n",
    "end"
   ]
  },
  {
   "cell_type": "code",
   "execution_count": 114,
   "metadata": {},
   "outputs": [
    {
     "data": {
      "text/plain": [
       "generate_random_symmetric_psd (generic function with 1 method)"
      ]
     },
     "execution_count": 114,
     "metadata": {},
     "output_type": "execute_result"
    }
   ],
   "source": [
    "# Source https://math.stackexchange.com/questions/357980/how-to-generate-random-symmetric-positive-definite-matrices-using-matlab\n",
    "function generate_random_symmetric_psd(d)\n",
    "    A = rand(Float64,(d,d))\n",
    "    A = 0.5*(A+A')\n",
    "    A = A + d * I\n",
    "    A = A / tr(A)\n",
    "    return A\n",
    "end"
   ]
  },
  {
   "cell_type": "code",
   "execution_count": 115,
   "metadata": {},
   "outputs": [
    {
     "data": {
      "text/plain": [
       "2×2 Matrix{Float64}:\n",
       " 0.508919   0.0787877\n",
       " 0.0787877  0.491081"
      ]
     },
     "execution_count": 115,
     "metadata": {},
     "output_type": "execute_result"
    }
   ],
   "source": [
    "d = 2\n",
    "A = kron(generate_random_symmetric_psd(d),generate_random_symmetric_psd(d))\n",
    "B = generate_random_symmetric_psd(d)\n"
   ]
  },
  {
   "cell_type": "code",
   "execution_count": 116,
   "metadata": {},
   "outputs": [
    {
     "name": "stdout",
     "output_type": "stream",
     "text": [
      "true\n",
      "true\n"
     ]
    }
   ],
   "source": [
    "println(isposdef(A))\n",
    "println(isposdef(B))\n"
   ]
  },
  {
   "cell_type": "code",
   "execution_count": 117,
   "metadata": {},
   "outputs": [
    {
     "data": {
      "text/plain": [
       "IsSeperable (generic function with 1 method)"
      ]
     },
     "execution_count": 117,
     "metadata": {},
     "output_type": "execute_result"
    }
   ],
   "source": [
    "function IsSeperable(X)\n",
    "\n",
    "    lX = length(X);\n",
    "    rX = rank(X);\n",
    "    X = X/tr(X);\n",
    "    sep = -1;\n",
    "    dim = round(Int, sqrt(lX))\n",
    "    println(A)\n",
    "    println(dim)\n",
    "    println(Ket.ppt_mixture(A,[dim]))\n",
    "    if(!isposdef(X))\n",
    "        error(\"Not positive semidefinite, can't determine separability\")\n",
    "    end\n",
    "\n",
    "\n",
    "    \n",
    "end"
   ]
  },
  {
   "cell_type": "code",
   "execution_count": 118,
   "metadata": {},
   "outputs": [
    {
     "data": {
      "text/plain": [
       "(-0.333333328888889, [0 0 0 0; 0 0 0 0; 0 0 0 0; 0 0 0 0])"
      ]
     },
     "execution_count": 118,
     "metadata": {},
     "output_type": "execute_result"
    }
   ],
   "source": [
    "A = kron([[1,0] [0,1]],[[1,0] [0,1]])\n",
    "Ket.ppt_mixture(A,[4])"
   ]
  },
  {
   "cell_type": "code",
   "execution_count": 119,
   "metadata": {},
   "outputs": [
    {
     "data": {
      "text/plain": [
       "is_ppt (generic function with 1 method)"
      ]
     },
     "execution_count": 119,
     "metadata": {},
     "output_type": "execute_result"
    }
   ],
   "source": [
    "function is_ppt(X)\n",
    "    lX = length(X);\n",
    "\n",
    "    dim = round(Int, sqrt(lX))\n",
    "    return isposdef(Ket.partial_transpose(X,[dim,dim]))\n",
    "end"
   ]
  },
  {
   "cell_type": "code",
   "execution_count": 120,
   "metadata": {},
   "outputs": [
    {
     "ename": "LoadError",
     "evalue": "ArgumentError: Subsystems are not equally-sized, please specify sizes.",
     "output_type": "error",
     "traceback": [
      "ArgumentError: Subsystems are not equally-sized, please specify sizes.",
      "",
      "Stacktrace:",
      " [1] _equal_sizes(arg::Matrix{Float64})",
      "   @ Ket ~/.julia/packages/Ket/FerHw/src/entanglement.jl:4",
      " [2] partial_transpose",
      "   @ ~/.julia/packages/Ket/FerHw/src/multilinear.jl:137 [inlined]",
      " [3] is_ppt(X::Matrix{Float64})",
      "   @ Main ./In[119]:5",
      " [4] top-level scope",
      "   @ In[120]:1"
     ]
    }
   ],
   "source": [
    "is_ppt(B)"
   ]
  }
 ],
 "metadata": {
  "kernelspec": {
   "display_name": "Julia 1.11.3",
   "language": "julia",
   "name": "julia-1.11"
  },
  "language_info": {
   "file_extension": ".jl",
   "mimetype": "application/julia",
   "name": "julia",
   "version": "1.11.3"
  }
 },
 "nbformat": 4,
 "nbformat_minor": 2
}
