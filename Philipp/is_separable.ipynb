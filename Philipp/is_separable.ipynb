{
 "cells": [
  {
   "cell_type": "markdown",
   "metadata": {},
   "source": [
    "# Implementation of is_seperable() function\n",
    "## Step 1: Determine if the state is PSD"
   ]
  },
  {
   "cell_type": "code",
   "execution_count": 1,
   "metadata": {},
   "outputs": [],
   "source": [
    "using LinearAlgebra\n",
    "using Ket\n",
    "using TensorCore"
   ]
  },
  {
   "cell_type": "code",
   "execution_count": 2,
   "metadata": {},
   "outputs": [
    {
     "data": {
      "text/plain": [
       "1.8189894035458565e-12"
      ]
     },
     "metadata": {},
     "output_type": "display_data"
    }
   ],
   "source": [
    "tol = eps()^(3/4)\n",
    "tol"
   ]
  },
  {
   "cell_type": "code",
   "execution_count": 3,
   "metadata": {},
   "outputs": [
    {
     "data": {
      "text/plain": [
       "has_positive_eigenvals (generic function with 1 method)"
      ]
     },
     "metadata": {},
     "output_type": "display_data"
    }
   ],
   "source": [
    "function has_positive_eigenvals(X)\n",
    "    for i in eigvals(X)\n",
    "        if !(i >= tol)\n",
    "            print(i)\n",
    "            return false\n",
    "        end\n",
    "    end\n",
    "    return true\n",
    "end"
   ]
  },
  {
   "cell_type": "code",
   "execution_count": 4,
   "metadata": {},
   "outputs": [
    {
     "data": {
      "text/plain": [
       "generate_random_symmetric_psd (generic function with 1 method)"
      ]
     },
     "metadata": {},
     "output_type": "display_data"
    }
   ],
   "source": [
    "# Source https://math.stackexchange.com/questions/357980/how-to-generate-random-symmetric-positive-definite-matrices-using-matlab\n",
    "function generate_random_symmetric_psd(d)\n",
    "    A = rand(Float64,(d,d))\n",
    "    A = 0.5*(A+A')\n",
    "    A = A + d * I\n",
    "    A = A / tr(A)\n",
    "    return A\n",
    "end"
   ]
  },
  {
   "cell_type": "code",
   "execution_count": 109,
   "metadata": {},
   "outputs": [
    {
     "data": {
      "text/plain": [
       "4×4 Matrix{Float64}:\n",
       " 0.238231   0.0153522  0.0237746  0.0250403\n",
       " 0.0153522  0.260827   0.0417894  0.0219278\n",
       " 0.0237746  0.0417894  0.246182   0.0306753\n",
       " 0.0250403  0.0219278  0.0306753  0.254759"
      ]
     },
     "metadata": {},
     "output_type": "display_data"
    }
   ],
   "source": [
    "d = 4\n",
    "A = kron(generate_random_symmetric_psd(d),generate_random_symmetric_psd(d))\n",
    "B = generate_random_symmetric_psd(d)\n"
   ]
  },
  {
   "cell_type": "code",
   "execution_count": 6,
   "metadata": {},
   "outputs": [
    {
     "name": "stdout",
     "output_type": "stream",
     "text": [
      "true\n",
      "true\n"
     ]
    }
   ],
   "source": [
    "println(isposdef(A))\n",
    "println(isposdef(B))\n"
   ]
  },
  {
   "cell_type": "code",
   "execution_count": 7,
   "metadata": {},
   "outputs": [
    {
     "data": {
      "text/plain": [
       "IsSeperable (generic function with 1 method)"
      ]
     },
     "metadata": {},
     "output_type": "display_data"
    }
   ],
   "source": [
    "function IsSeperable(X)\n",
    "\n",
    "    lX = length(X);\n",
    "    rX = rank(X);\n",
    "    X = X/tr(X);\n",
    "    sep = -1;\n",
    "    dim = round(Int, sqrt(lX))\n",
    "    println(A)\n",
    "    println(dim)\n",
    "    println(Ket.ppt_mixture(A,[dim]))\n",
    "    if(!isposdef(X))\n",
    "        error(\"Not positive semidefinite, can't determine separability\")\n",
    "    end\n",
    "\n",
    "\n",
    "    \n",
    "end"
   ]
  },
  {
   "cell_type": "code",
   "execution_count": 254,
   "metadata": {},
   "outputs": [
    {
     "data": {
      "text/plain": [
       "is_ppt (generic function with 1 method)"
      ]
     },
     "metadata": {},
     "output_type": "display_data"
    }
   ],
   "source": [
    "function is_ppt(X)\n",
    "    # lX = length(X); NO!! This is matlab notation\n",
    "    lX = maximum(size(X))\n",
    "\n",
    "    dim = round(Int, sqrt(lX))\n",
    "    println(dim)\n",
    "    return isposdef(Ket.partial_transpose(X,[dim]))\n",
    "end"
   ]
  },
  {
   "cell_type": "code",
   "execution_count": 256,
   "metadata": {},
   "outputs": [
    {
     "name": "stdout",
     "output_type": "stream",
     "text": [
      "2\n",
      "false\n"
     ]
    },
    {
     "data": {
      "text/plain": [
       "16×16 Matrix{ComplexF64}:\n",
       "     0.109028+0.0im         …  -0.00689499+0.0372188im\n",
       "    0.0400935+0.013556im        -0.0122584+0.0230278im\n",
       "    0.0406009+0.0415546im       -0.0185122+0.0111296im\n",
       "   -0.0410804+0.0493898im       -0.0267654-0.0321793im\n",
       "    0.0400935+0.013556im        -0.0122584+0.0230278im\n",
       "    0.0130583+0.00997001im  …   -0.0128368+0.0125882im\n",
       "   0.00976369+0.0203292im       -0.0144764+0.00347069im\n",
       "   -0.0212476+0.0130546im       -0.0109087-0.0267043im\n",
       "    0.0406009+0.0415546im       -0.0185122+0.0111296im\n",
       "   0.00976369+0.0203292im       -0.0144764+0.00347069im\n",
       " -0.000718701+0.0309489im   …   -0.0117572-0.00370157im\n",
       "   -0.0341221+0.00273493im      0.00362845-0.0236076im\n",
       "   -0.0410804+0.0493898im       -0.0267654-0.0321793im\n",
       "   -0.0212476+0.0130546im       -0.0109087-0.0267043im\n",
       "   -0.0341221+0.00273493im      0.00362845-0.0236076im\n",
       "  -0.00689499-0.0372188im   …    0.0462826+0.0im"
      ]
     },
     "metadata": {},
     "output_type": "display_data"
    }
   ],
   "source": [
    "#B = random_state(d)\n",
    "B = ComplexF64[0.33019422880897437 + 0.0im 0.12142404118439183 - 0.04105450879395895im 0.12296054084408255 - 0.12584909898105995im -0.12441289134426448 - 0.1495779235525493im; 0.12142404118439183 + 0.04105450879395895im 0.15182422223904188 + 0.0im -0.004180440890841541 - 0.09431487248574094im -0.05070634251235821 - 0.12412871947039963im; 0.12296054084408255 + 0.12584909898105995im -0.004180440890841541 + 0.09431487248574094im 0.3028476881968294 + 0.0im 0.016865987821744106 - 0.10973464093025546im; -0.12441289134426448 + 0.1495779235525493im -0.05070634251235821 + 0.12412871947039963im 0.016865987821744106 + 0.10973464093025546im 0.21513386075515445 + 0.0im]\n",
    "println(is_ppt(B))\n",
    "A = kron(B,B)\n"
   ]
  },
  {
   "cell_type": "code",
   "execution_count": 257,
   "metadata": {},
   "outputs": [
    {
     "name": "stdout",
     "output_type": "stream",
     "text": [
      "4\n"
     ]
    },
    {
     "ename": "BoundsError",
     "evalue": "BoundsError: attempt to access 1-element Vector{Int64} at index [2]",
     "output_type": "error",
     "traceback": [
      "BoundsError: attempt to access 1-element Vector{Int64} at index [2]\n",
      "\n",
      "Stacktrace:\n",
      " [1] throw_boundserror(A::Vector{Int64}, I::Tuple{Int64})\n",
      "   @ Base ./essentials.jl:14\n",
      " [2] setindex!\n",
      "   @ ./array.jl:986 [inlined]\n",
      " [3] partial_transpose(X::Matrix{ComplexF64}, transp::Vector{Int64}, dims::Vector{Int64})\n",
      "   @ Ket ~/.julia/packages/Ket/FerHw/src/multilinear.jl:145\n",
      " [4] partial_transpose\n",
      "   @ ~/.julia/packages/Ket/FerHw/src/multilinear.jl:137 [inlined]\n",
      " [5] is_ppt(X::Matrix{ComplexF64})\n",
      "   @ Main ~/Documents/__Dokumente/Uni/UPMC/Julia/Philipp/jl_notebook_cell_df34fa98e69747e1a8f8a730347b8e2f_X12sZmlsZQ==.jl:7\n",
      " [6] top-level scope\n",
      "   @ ~/Documents/__Dokumente/Uni/UPMC/Julia/Philipp/jl_notebook_cell_df34fa98e69747e1a8f8a730347b8e2f_X14sZmlsZQ==.jl:1"
     ]
    }
   ],
   "source": [
    "is_ppt(A)"
   ]
  },
  {
   "cell_type": "code",
   "execution_count": 245,
   "metadata": {},
   "outputs": [
    {
     "data": {
      "text/plain": [
       "4×4 Matrix{ComplexF64}:\n",
       "    0.330194+0.0im          0.121424+0.0410545im  …  -0.00418044-0.0943149im\n",
       "    0.121424-0.0410545im    0.151824+0.0im            -0.0507063-0.124129im\n",
       "    0.122961+0.125849im    -0.124413+0.149578im         0.016866+0.109735im\n",
       " -0.00418044+0.0943149im  -0.0507063+0.124129im         0.215134+0.0im"
      ]
     },
     "metadata": {},
     "output_type": "display_data"
    }
   ],
   "source": [
    "Ket.partial_transpose(B,[2])"
   ]
  },
  {
   "cell_type": "code",
   "execution_count": 255,
   "metadata": {},
   "outputs": [
    {
     "data": {
      "text/plain": [
       "4×4 Matrix{Int64}:\n",
       "  0  0  0  -1\n",
       "  0  1  0   0\n",
       "  0  0  1   0\n",
       " -1  0  0   0"
      ]
     },
     "metadata": {},
     "output_type": "display_data"
    }
   ],
   "source": [
    "# https://physics.stackexchange.com/questions/571365/how-to-find-the-partial-transpose-of-bipartite-states-from-their-matrix-represen\n",
    "ρ = [[0,0,0,0] [0,1,-1,0] [0,-1,1,0] [0,0,0,0]]\n",
    "Ket.partial_transpose(ρ,[2])\n",
    "#ρ"
   ]
  },
  {
   "cell_type": "code",
   "execution_count": 232,
   "metadata": {},
   "outputs": [
    {
     "data": {
      "text/plain": [
       "4×4 Matrix{Int64}:\n",
       " 0   0   0  0\n",
       " 0   1  -1  0\n",
       " 0  -1   1  0\n",
       " 0   0   0  0"
      ]
     },
     "metadata": {},
     "output_type": "display_data"
    }
   ],
   "source": [
    "ρ"
   ]
  },
  {
   "cell_type": "code",
   "execution_count": 241,
   "metadata": {},
   "outputs": [
    {
     "data": {
      "text/plain": [
       "4"
      ]
     },
     "metadata": {},
     "output_type": "display_data"
    }
   ],
   "source": [
    "length([6,7,8,9])"
   ]
  }
 ],
 "metadata": {
  "kernelspec": {
   "display_name": "Julia 1.11.3",
   "language": "julia",
   "name": "julia-1.11"
  },
  "language_info": {
   "file_extension": ".jl",
   "mimetype": "application/julia",
   "name": "julia",
   "version": "1.11.3"
  }
 },
 "nbformat": 4,
 "nbformat_minor": 2
}
