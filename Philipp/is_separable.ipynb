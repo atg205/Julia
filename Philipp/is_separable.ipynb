{
 "cells": [
  {
   "cell_type": "markdown",
   "metadata": {},
   "source": [
    "# Implementation of is_seperable() function\n",
    "## Step 1: Determine if the state is PSD"
   ]
  },
  {
   "cell_type": "code",
   "execution_count": 1,
   "metadata": {},
   "outputs": [],
   "source": [
    "using LinearAlgebra\n",
    "using Ket\n",
    "using TensorCore"
   ]
  },
  {
   "cell_type": "code",
   "execution_count": 2,
   "metadata": {},
   "outputs": [
    {
     "data": {
      "text/plain": [
       "1.8189894035458565e-12"
      ]
     },
     "metadata": {},
     "output_type": "display_data"
    }
   ],
   "source": [
    "tol = eps()^(3/4)\n",
    "tol"
   ]
  },
  {
   "cell_type": "code",
   "execution_count": 3,
   "metadata": {},
   "outputs": [
    {
     "data": {
      "text/plain": [
       "has_positive_eigenvals (generic function with 1 method)"
      ]
     },
     "metadata": {},
     "output_type": "display_data"
    }
   ],
   "source": [
    "function has_positive_eigenvals(X)\n",
    "    for i in eigvals(X)\n",
    "        if !(i >= tol)\n",
    "            print(i)\n",
    "            return false\n",
    "        end\n",
    "    end\n",
    "    return true\n",
    "end"
   ]
  },
  {
   "cell_type": "code",
   "execution_count": 4,
   "metadata": {},
   "outputs": [
    {
     "data": {
      "text/plain": [
       "generate_random_symmetric_psd (generic function with 1 method)"
      ]
     },
     "metadata": {},
     "output_type": "display_data"
    }
   ],
   "source": [
    "# Source https://math.stackexchange.com/questions/357980/how-to-generate-random-symmetric-positive-definite-matrices-using-matlab\n",
    "function generate_random_symmetric_psd(d)\n",
    "    A = rand(Float64,(d,d))\n",
    "    A = 0.5*(A+A')\n",
    "    A = A + d * I\n",
    "    A = A / tr(A)\n",
    "    return A\n",
    "end"
   ]
  },
  {
   "cell_type": "code",
   "execution_count": 5,
   "metadata": {},
   "outputs": [
    {
     "data": {
      "text/plain": [
       "4×4 Matrix{Float64}:\n",
       " 0.274253   0.0201374    0.0477959    0.0260544\n",
       " 0.0201374  0.236307     0.000407752  0.015734\n",
       " 0.0477959  0.000407752  0.227435     0.0367458\n",
       " 0.0260544  0.015734     0.0367458    0.262006"
      ]
     },
     "metadata": {},
     "output_type": "display_data"
    }
   ],
   "source": [
    "d = 4\n",
    "A = kron(generate_random_symmetric_psd(d),generate_random_symmetric_psd(d))\n",
    "B = generate_random_symmetric_psd(d)\n"
   ]
  },
  {
   "cell_type": "code",
   "execution_count": 6,
   "metadata": {},
   "outputs": [
    {
     "name": "stdout",
     "output_type": "stream",
     "text": [
      "true\n",
      "true\n"
     ]
    }
   ],
   "source": [
    "println(isposdef(A))\n",
    "println(isposdef(B))\n"
   ]
  },
  {
   "cell_type": "code",
   "execution_count": 7,
   "metadata": {},
   "outputs": [
    {
     "data": {
      "text/plain": [
       "is_ppt (generic function with 1 method)"
      ]
     },
     "metadata": {},
     "output_type": "display_data"
    }
   ],
   "source": [
    "function is_ppt(X)\n",
    "    # lX = length(X); NO!! This is matlab notation\n",
    "    lX = maximum(size(X))\n",
    "\n",
    "    dim = round(Int, sqrt(lX))\n",
    "    println(dim)\n",
    "    return isposdef(Ket.partial_transpose(X,2))\n",
    "end"
   ]
  },
  {
   "cell_type": "code",
   "execution_count": 8,
   "metadata": {},
   "outputs": [
    {
     "data": {
      "text/plain": [
       "is_seperable (generic function with 1 method)"
      ]
     },
     "metadata": {},
     "output_type": "display_data"
    }
   ],
   "source": [
    "function is_seperable(X)\n",
    "    seperable = -1\n",
    "\n",
    "    lX = maximum(size(X))\n",
    "    rX = rank(X);\n",
    "    X = X/tr(X);\n",
    "    sep = -1;\n",
    "    dim = round(Int, sqrt(lX))\n",
    "\n",
    "\n",
    "    nD = min(dim)\n",
    "    xD = max(dim)\n",
    "    pD = prod(dim)\n",
    "    \n",
    "    println(\"------\")\n",
    "    println(dim)\n",
    "    println(nD)\n",
    "    println(xD)\n",
    "    println(pD)\n",
    "    println(\"-------\")\n",
    "\n",
    "    if(nD == 1)\n",
    "        println(\"Every positive semidefinite matrix is separable when one of the local dimensions is 1\");\n",
    "        return 1       \n",
    "    end\n",
    "    \n",
    "    XA = Ket.partial_trace(X,[2]);\n",
    "    XB = Ket.partial_trace(X,[1]);\n",
    "\n",
    "    # pre-load various references\n",
    "    # Définir un dictionnaire pour stocker les références\n",
    "    refs = Dict(\n",
    "        1 => \"A. Peres. Separability criterion for density matrices. Phys. Rev. Lett., 77:1413-1415, 1996.\",\n",
    "        2 => \"M. Horodecki, P. Horodecki, and R. Horodecki. Separability of mixed states: Necessary and sufficient conditions. Phys. Lett. A, 223:1-8, 1996.\",\n",
    "        3 => \"P. Horodecki, M. Lewenstein, G. Vidal, and I. Cirac. Operational criterion and constructive checks for the separability of low-rank density matrices. Phys. Rev. A, 62:032310, 2000.\",\n",
    "        4 => \"K. Chen and L.-A. Wu. A matrix realignment method for recognizing entanglement. Quantum Inf. Comput., 3:193-202, 2003.\",\n",
    "        5 => \"F. Verstraete, J. Dehaene, and B. De Moor. Normal forms and entanglement measures for multipartite quantum states. Phys. Rev. A, 68:012103, 2003.\",\n",
    "        6 => \"K.-C. Ha and S.-H. Kye. Entanglement witnesses arising from exposed positive linear maps. Open Systems & Information Dynamics, 18:323-337, 2011.\",\n",
    "        7 => \"O. Gittsovich, O. Guehne, P. Hyllus, and J. Eisert. Unifying several separability conditions using the covariance matrix criterion. Phys. Rev. A, 78:052319, 2008.\",\n",
    "        8 => \"L. Gurvits and H. Barnum. Largest separable balls around the maximally mixed bipartite quantum state. Phys. Rev. A, 66:062311, 2002.\",\n",
    "        9 => \"H.-P. Breuer. Optimal entanglement criterion for mixed quantum states. Phys. Rev. Lett., 97:080501, 2006.\",\n",
    "        10 => \"W. Hall. Constructions of indecomposable positive maps based on a new criterion for indecomposability. E-print: arXiv:quant-ph/0607035, 2006.\",\n",
    "        11 => \"A. C. Doherty, P. A. Parrilo, and F. M. Spedalieri. A complete family of separability criteria. Phys. Rev. A, 69:022308, 2004.\",\n",
    "        12 => \"M. Navascues, M. Owari, and M. B. Plenio. A complete criterion for separability detection. Phys. Rev. Lett., 103:160404, 2009.\",\n",
    "        13 => \"N. Johnston. Separability from spectrum for qubit-qudit states. Phys. Rev. A, 88:062330, 2013.\",\n",
    "        14 => \"C.-J. Zhang, Y.-S. Zhang, S. Zhang, and G.-C. Guo. Entanglement detection beyond the cross-norm or realignment criterion. Phys. Rev. A, 77:060301(R), 2008.\",\n",
    "        15 => \"R. Hildebrand. Semidefinite descriptions of low-dimensional separable matrix cones. Linear Algebra Appl., 429:901-932, 2008.\",\n",
    "        16 => \"R. Hildebrand. Comparison of the PPT cone and the separable cone for 2-by-n systems. http://www-ljk.imag.fr/membres/Roland.Hildebrand/coreMPseminar2005_slides.pdf\",\n",
    "        17 => \"D. Cariello. Separability for weak irreducible matrices. E-print: arXiv:1311.7275 [quant-ph], 2013.\",\n",
    "        18 => \"L. Chen and D. Z. Djokovic. Separability problem for multipartite states of rank at most four. J. Phys. A: Math. Theor., 46:275304, 2013.\",\n",
    "        19 => \"G. Vidal and R. Tarrach. Robustness of entanglement. Phys. Rev. A, 59:141-155, 1999.\"\n",
    "    )\n",
    "\n",
    "\n",
    "    if(!isposdef(X))\n",
    "        error(\"Not positive semidefinite, can't determine separability\")\n",
    "    end\n",
    "\n",
    "    ppt = is_ppt(X)\n",
    "    if(!ppt)\n",
    "        print(\"Determined to be entangled via the PPT criterion. Reference:\\n\",refs[1],\"\\n\")\n",
    "        return 0\n",
    "\n",
    "    elseif(pD <= 6 || min(dim) <= 1)\n",
    "        println(\"Determined to be separable via sufficiency of the PPT criterion in small dimensions. Reference:\\n\",refs[2],\"\\n\")\n",
    "        return 1\n",
    "    end\n",
    "\n",
    "    return seperable\n",
    "    \n",
    "end"
   ]
  },
  {
   "cell_type": "code",
   "execution_count": 9,
   "metadata": {},
   "outputs": [
    {
     "name": "stdout",
     "output_type": "stream",
     "text": [
      "2\n",
      "false\n",
      "[1 1; 1 1]\n",
      "------\n",
      "4\n",
      "4\n",
      "4\n",
      "4\n",
      "-------\n",
      "4\n",
      "Determined to be separable via sufficiency of the PPT criterion in small dimensions. Reference:\n",
      "M. Horodecki, P. Horodecki, and R. Horodecki. Separability of mixed states: Necessary and sufficient conditions. Phys. Lett. A, 223:1-8, 1996.\n",
      "\n"
     ]
    },
    {
     "data": {
      "text/plain": [
       "1"
      ]
     },
     "metadata": {},
     "output_type": "display_data"
    }
   ],
   "source": [
    "#B = random_state(d)\n",
    "B = ComplexF64[0.33019422880897437 + 0.0im 0.12142404118439183 - 0.04105450879395895im 0.12296054084408255 - 0.12584909898105995im -0.12441289134426448 - 0.1495779235525493im; 0.12142404118439183 + 0.04105450879395895im 0.15182422223904188 + 0.0im -0.004180440890841541 - 0.09431487248574094im -0.05070634251235821 - 0.12412871947039963im; 0.12296054084408255 + 0.12584909898105995im -0.004180440890841541 + 0.09431487248574094im 0.3028476881968294 + 0.0im 0.016865987821744106 - 0.10973464093025546im; -0.12441289134426448 + 0.1495779235525493im -0.05070634251235821 + 0.12412871947039963im 0.016865987821744106 + 0.10973464093025546im 0.21513386075515445 + 0.0im]\n",
    "println(is_ppt(B))\n",
    "A = kron(B,B)\n",
    "println(Ket.ketbra([1,1]))\n",
    "is_seperable(A)"
   ]
  },
  {
   "cell_type": "code",
   "execution_count": 11,
   "metadata": {},
   "outputs": [
    {
     "data": {
      "text/plain": [
       "4×4 Matrix{ComplexF64}:\n",
       "    0.330194+0.0im          0.121424+0.0410545im  …  -0.00418044-0.0943149im\n",
       "    0.121424-0.0410545im    0.151824+0.0im            -0.0507063-0.124129im\n",
       "    0.122961+0.125849im    -0.124413+0.149578im         0.016866+0.109735im\n",
       " -0.00418044+0.0943149im  -0.0507063+0.124129im         0.215134+0.0im"
      ]
     },
     "metadata": {},
     "output_type": "display_data"
    }
   ],
   "source": [
    "Ket.partial_transpose(B,[2])"
   ]
  },
  {
   "cell_type": "code",
   "execution_count": 16,
   "metadata": {},
   "outputs": [
    {
     "data": {
      "text/plain": [
       "4×4 Matrix{Int64}:\n",
       " 0   0   0  0\n",
       " 0   1  -1  0\n",
       " 0  -1   1  0\n",
       " 0   0   0  0"
      ]
     },
     "metadata": {},
     "output_type": "display_data"
    }
   ],
   "source": [
    "# https://physics.stackexchange.com/questions/571365/how-to-find-the-partial-transpose-of-bipartite-states-from-their-matrix-represen\n",
    "ρ = [[0,0,0,0] [0,1,-1,0] [0,-1,1,0] [0,0,0,0]]\n",
    "\n",
    "#ρ"
   ]
  },
  {
   "cell_type": "code",
   "execution_count": 27,
   "metadata": {},
   "outputs": [
    {
     "data": {
      "text/plain": [
       "2×2 Matrix{Int64}:\n",
       " 1  0\n",
       " 0  1"
      ]
     },
     "metadata": {},
     "output_type": "display_data"
    }
   ],
   "source": [
    "Ket.partial_trace(ρ,2)"
   ]
  },
  {
   "cell_type": "code",
   "execution_count": 241,
   "metadata": {},
   "outputs": [
    {
     "data": {
      "text/plain": [
       "4"
      ]
     },
     "metadata": {},
     "output_type": "display_data"
    }
   ],
   "source": [
    "length([6,7,8,9])"
   ]
  },
  {
   "cell_type": "code",
   "execution_count": null,
   "metadata": {},
   "outputs": [],
   "source": []
  }
 ],
 "metadata": {
  "kernelspec": {
   "display_name": "Julia 1.11.3",
   "language": "julia",
   "name": "julia-1.11"
  },
  "language_info": {
   "file_extension": ".jl",
   "mimetype": "application/julia",
   "name": "julia",
   "version": "1.11.3"
  }
 },
 "nbformat": 4,
 "nbformat_minor": 2
}
