{
 "cells": [
  {
   "cell_type": "code",
   "execution_count": 257,
   "metadata": {},
   "outputs": [],
   "source": [
    "using JuMP\n",
    "import LinearAlgebra    \n",
    "import SCS\n",
    "using Hypatia"
   ]
  },
  {
   "cell_type": "code",
   "execution_count": 258,
   "metadata": {},
   "outputs": [
    {
     "data": {
      "text/plain": [
       "(2, 2)"
      ]
     },
     "metadata": {},
     "output_type": "display_data"
    }
   ],
   "source": [
    "N, d = 2, 2"
   ]
  },
  {
   "cell_type": "code",
   "execution_count": 259,
   "metadata": {},
   "outputs": [
    {
     "data": {
      "text/plain": [
       "2-element Vector{Hermitian}:\n",
       " [1 0; 0 0]\n",
       " [0.5 0.5; 0.5 0.5]"
      ]
     },
     "metadata": {},
     "output_type": "display_data"
    }
   ],
   "source": [
    "function random_state(d)\n",
    "    x = randn(ComplexF64, (d, d))\n",
    "    y = x * x'\n",
    "    return LinearAlgebra.Hermitian(y / LinearAlgebra.tr(y))\n",
    "end\n",
    "\n",
    "#ρ = [random_state(d) for i in 1:N]\n",
    "#ρ = 0.5 * [LinearAlgebra.Hermitian([[1,0] [0,1]])]\n",
    "#ρ = 0.5 * [[[1,1] [1,1]],[[1,-1] [-1,1]]] # discriminate between plus and minus\n",
    "#\n",
    "ρ = [Hermitian([1 0; 0 0]), 0.5 * Hermitian([1 1; 1 1])] # 0 and plus\n",
    "\n",
    "\n",
    "ρ"
   ]
  },
  {
   "cell_type": "code",
   "execution_count": 260,
   "metadata": {},
   "outputs": [],
   "source": [
    "model = Model(SCS.Optimizer)\n",
    "set_silent(model)"
   ]
  },
  {
   "cell_type": "code",
   "execution_count": 261,
   "metadata": {},
   "outputs": [
    {
     "data": {
      "text/plain": [
       "2-element Vector{Hermitian{GenericAffExpr{ComplexF64, VariableRef}, Matrix{GenericAffExpr{ComplexF64, VariableRef}}}}:\n",
       " [_[1] _[2] + _[4] im; _[2] - _[4] im _[3]]\n",
       " [_[5] _[6] + _[8] im; _[6] - _[8] im _[7]]"
      ]
     },
     "metadata": {},
     "output_type": "display_data"
    }
   ],
   "source": [
    "E = [@variable(model, [1:d, 1:d] in HermitianPSDCone()) for i in 1:N]"
   ]
  },
  {
   "cell_type": "code",
   "execution_count": 262,
   "metadata": {},
   "outputs": [
    {
     "data": {
      "text/latex": [
       "$$ \\begin{bmatrix}\n",
       "{\\_}_{1} + {\\_}_{5} - 1 & {\\_}_{2} + {\\_}_{6} + {\\_}_{4} im + {\\_}_{8} im\\\\\n",
       "{\\_}_{2} + {\\_}_{6} - {\\_}_{4} im - {\\_}_{8} im & {\\_}_{3} + {\\_}_{7} - 1\\\\\n",
       "\\end{bmatrix} \\in \\text{Zeros()} $$"
      ],
      "text/plain": [
       "[_[1] + _[5] - 1                  _[2] + _[6] + _[4] im + _[8] im\n",
       " _[2] + _[6] - _[4] im - _[8] im  _[3] + _[7] - 1] ∈ Zeros()"
      ]
     },
     "metadata": {},
     "output_type": "display_data"
    }
   ],
   "source": [
    "@constraint(model, sum(E) == LinearAlgebra.I)"
   ]
  },
  {
   "cell_type": "code",
   "execution_count": 263,
   "metadata": {},
   "outputs": [
    {
     "data": {
      "text/latex": [
       "$ 0.5 {\\_}_{1} + 0.25 {\\_}_{5} + 0.5 {\\_}_{6} + 0.25 {\\_}_{7} $"
      ],
      "text/plain": [
       "0.5 _[1] + 0.25 _[5] + 0.5 _[6] + 0.25 _[7]"
      ]
     },
     "metadata": {},
     "output_type": "display_data"
    }
   ],
   "source": [
    "@objective(\n",
    "    model,\n",
    "    Max,\n",
    "    sum(real(LinearAlgebra.tr(ρ[i] * E[i])) for i in 1:N) / N,\n",
    ")"
   ]
  },
  {
   "cell_type": "code",
   "execution_count": 264,
   "metadata": {},
   "outputs": [
    {
     "data": {
      "text/plain": [
       "* Solver : SCS\n",
       "\n",
       "* Status\n",
       "  Result count       : 1\n",
       "  Termination status : OPTIMAL\n",
       "  Message from the solver:\n",
       "  \"solved\"\n",
       "\n",
       "* Candidate solution (result #1)\n",
       "  Primal status      : FEASIBLE_POINT\n",
       "  Dual status        : FEASIBLE_POINT\n",
       "  Objective value    : 8.53552e-01\n",
       "  Dual objective value : 8.53552e-01\n",
       "\n",
       "* Work counters\n",
       "  Solve time (sec)   : 1.25759e-02\n"
      ]
     },
     "metadata": {},
     "output_type": "display_data"
    }
   ],
   "source": [
    "optimize!(model)\n",
    "assert_is_solved_and_feasible(model)\n",
    "solution_summary(model)"
   ]
  },
  {
   "cell_type": "code",
   "execution_count": 265,
   "metadata": {},
   "outputs": [
    {
     "data": {
      "text/plain": [
       "0.8535516271731516"
      ]
     },
     "metadata": {},
     "output_type": "display_data"
    }
   ],
   "source": [
    "objective_value(model)"
   ]
  },
  {
   "cell_type": "code",
   "execution_count": 266,
   "metadata": {},
   "outputs": [
    {
     "data": {
      "text/plain": [
       "0.8535533905932737"
      ]
     },
     "metadata": {},
     "output_type": "display_data"
    }
   ],
   "source": [
    "0.5 + 0.25 * sum(LinearAlgebra.svdvals(ρ[1] - ρ[2]))"
   ]
  },
  {
   "cell_type": "code",
   "execution_count": 267,
   "metadata": {},
   "outputs": [
    {
     "data": {
      "text/plain": [
       "2-element Vector{Matrix{ComplexF64}}:\n",
       " [0.8535516273557899 + 0.0im -0.35355163029489334 + 0.0im; -0.35355163029489334 + 0.0im 0.1464483663886332 + 0.0im]\n",
       " [0.1464483661466257 + 0.0im 0.3535516305211815 + 0.0im; 0.3535516305211815 - 0.0im 0.8535516267920372 + 0.0im]"
      ]
     },
     "metadata": {},
     "output_type": "display_data"
    }
   ],
   "source": [
    "solution = [value.(e) for e in E]"
   ]
  },
  {
   "cell_type": "markdown",
   "metadata": {},
   "source": [
    "## Solving the dual\n",
    "$$\\min\\text{tr[K]}\\\\\n",
    "\\text{s.c. } K \\geq q_i p_i,\\quad i \\in 1,\\ldots,N\n",
    "\n",
    "$$ "
   ]
  },
  {
   "cell_type": "code",
   "execution_count": 268,
   "metadata": {},
   "outputs": [],
   "source": [
    "#model_dual = Model(() -> Hypatia.Optimizer(verbose = false))\n",
    "model_dual = Model(SCS.Optimizer)\n",
    "set_silent(model_dual)"
   ]
  },
  {
   "cell_type": "code",
   "execution_count": 269,
   "metadata": {},
   "outputs": [
    {
     "data": {
      "text/plain": [
       "2×2 Hermitian{Float64, Matrix{Float64}}:\n",
       " 0.5  0.5\n",
       " 0.5  0.5"
      ]
     },
     "metadata": {},
     "output_type": "display_data"
    }
   ],
   "source": [
    "ρ[2]"
   ]
  },
  {
   "cell_type": "code",
   "execution_count": 270,
   "metadata": {},
   "outputs": [],
   "source": [
    "K = @variable(model_dual, K[1:d, 1:d], PSD)\n",
    "for i in 1:N\n",
    "    @constraint(model_dual, K .>= (ρ[i]/N))\n",
    "end"
   ]
  },
  {
   "cell_type": "code",
   "execution_count": 271,
   "metadata": {},
   "outputs": [
    {
     "data": {
      "text/latex": [
       "$ K_{1,1} + K_{2,2} $"
      ],
      "text/plain": [
       "K[1,1] + K[2,2]"
      ]
     },
     "metadata": {},
     "output_type": "display_data"
    }
   ],
   "source": [
    "@objective(\n",
    "    model_dual,\n",
    "    Min,\n",
    "    LinearAlgebra.tr(K)\n",
    ")"
   ]
  },
  {
   "cell_type": "code",
   "execution_count": 272,
   "metadata": {},
   "outputs": [
    {
     "data": {
      "text/plain": [
       "* Solver : SCS\n",
       "\n",
       "* Status\n",
       "  Result count       : 1\n",
       "  Termination status : OPTIMAL\n",
       "  Message from the solver:\n",
       "  \"solved\"\n",
       "\n",
       "* Candidate solution (result #1)\n",
       "  Primal status      : FEASIBLE_POINT\n",
       "  Dual status        : FEASIBLE_POINT\n",
       "  Objective value    : 7.50000e-01\n",
       "  Dual objective value : 7.49999e-01\n",
       "\n",
       "* Work counters\n",
       "  Solve time (sec)   : 1.98077e-02\n"
      ]
     },
     "metadata": {},
     "output_type": "display_data"
    }
   ],
   "source": [
    "optimize!(model_dual)\n",
    "assert_is_solved_and_feasible(model_dual)\n",
    "solution_summary(model_dual)"
   ]
  },
  {
   "cell_type": "code",
   "execution_count": 273,
   "metadata": {},
   "outputs": [
    {
     "data": {
      "text/plain": [
       "0.749999502359536"
      ]
     },
     "metadata": {},
     "output_type": "display_data"
    }
   ],
   "source": [
    "objective_value(model_dual)"
   ]
  }
 ],
 "metadata": {
  "kernelspec": {
   "display_name": "Julia 1.11.3",
   "language": "julia",
   "name": "julia-1.11"
  },
  "language_info": {
   "file_extension": ".jl",
   "mimetype": "application/julia",
   "name": "julia",
   "version": "1.11.3"
  }
 },
 "nbformat": 4,
 "nbformat_minor": 2
}
