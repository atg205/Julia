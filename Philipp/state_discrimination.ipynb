{
 "cells": [
  {
   "cell_type": "code",
   "execution_count": 35,
   "metadata": {},
   "outputs": [],
   "source": [
    "using JuMP\n",
    "import LinearAlgebra    \n",
    "import SCS\n",
    "using Hypatia\n",
    "using Ket"
   ]
  },
  {
   "cell_type": "code",
   "execution_count": 3,
   "metadata": {},
   "outputs": [
    {
     "data": {
      "text/plain": [
       "(2, 2)"
      ]
     },
     "metadata": {},
     "output_type": "display_data"
    }
   ],
   "source": [
    "N, d = 2, 2"
   ]
  },
  {
   "cell_type": "code",
   "execution_count": 4,
   "metadata": {},
   "outputs": [
    {
     "data": {
      "text/plain": [
       "2-element Vector{LinearAlgebra.Hermitian{ComplexF64, Matrix{ComplexF64}}}:\n",
       " [0.7425098865553261 + 0.0im -0.3760340210239671 + 0.2210600185552158im; -0.3760340210239671 - 0.2210600185552158im 0.2574901134446739 + 0.0im]\n",
       " [0.5647988421199441 + 0.0im 0.1314433967349732 + 0.02217642052904461im; 0.1314433967349732 - 0.02217642052904461im 0.435201157880056 + 0.0im]"
      ]
     },
     "metadata": {},
     "output_type": "display_data"
    }
   ],
   "source": [
    "function random_state(d)\n",
    "    x = randn(ComplexF64, (d, d))\n",
    "    y = x * x'\n",
    "    return LinearAlgebra.Hermitian(y / LinearAlgebra.tr(y))\n",
    "end\n",
    "\n",
    "ρ = [random_state(d) for i in 1:N]\n",
    "#ρ = 0.5 * [LinearAlgebra.Hermitian([[1,0] [0,1]])]\n",
    "#ρ = 0.5 * [[[1,1] [1,1]],[[1,-1] [-1,1]]] # discriminate between plus and minus\n",
    "#ρ = [Hermitian([1 0; 0 0]), 0.5 * Hermitian([1 1; 1 1])] # 0 and plus\n",
    "\n",
    "\n",
    "ρ"
   ]
  },
  {
   "cell_type": "code",
   "execution_count": 5,
   "metadata": {},
   "outputs": [],
   "source": [
    "model = Model(SCS.Optimizer)\n",
    "set_silent(model)"
   ]
  },
  {
   "cell_type": "code",
   "execution_count": 6,
   "metadata": {},
   "outputs": [
    {
     "data": {
      "text/plain": [
       "2-element Vector{LinearAlgebra.Hermitian{GenericAffExpr{ComplexF64, VariableRef}, Matrix{GenericAffExpr{ComplexF64, VariableRef}}}}:\n",
       " [_[1] _[2] + _[4] im; _[2] - _[4] im _[3]]\n",
       " [_[5] _[6] + _[8] im; _[6] - _[8] im _[7]]"
      ]
     },
     "metadata": {},
     "output_type": "display_data"
    }
   ],
   "source": [
    "E = [@variable(model, [1:d, 1:d] in HermitianPSDCone()) for i in 1:N]"
   ]
  },
  {
   "cell_type": "code",
   "execution_count": 7,
   "metadata": {},
   "outputs": [
    {
     "data": {
      "text/latex": [
       "$$ \\begin{bmatrix}\n",
       "{\\_}_{1} + {\\_}_{5} - 1 & {\\_}_{2} + {\\_}_{6} + {\\_}_{4} im + {\\_}_{8} im\\\\\n",
       "{\\_}_{2} + {\\_}_{6} - {\\_}_{4} im - {\\_}_{8} im & {\\_}_{3} + {\\_}_{7} - 1\\\\\n",
       "\\end{bmatrix} \\in \\text{Zeros()} $$"
      ],
      "text/plain": [
       "[_[1] + _[5] - 1                  _[2] + _[6] + _[4] im + _[8] im\n",
       " _[2] + _[6] - _[4] im - _[8] im  _[3] + _[7] - 1] ∈ Zeros()"
      ]
     },
     "metadata": {},
     "output_type": "display_data"
    }
   ],
   "source": [
    "@constraint(model, sum(E) == LinearAlgebra.I)"
   ]
  },
  {
   "cell_type": "code",
   "execution_count": 8,
   "metadata": {},
   "outputs": [
    {
     "data": {
      "text/latex": [
       "$ 0.37125494327766306 {\\_}_{1} - 0.3760340210239671 {\\_}_{2} + 0.2210600185552158 {\\_}_{4} + 0.12874505672233694 {\\_}_{3} + 0.28239942105997207 {\\_}_{5} + 0.1314433967349732 {\\_}_{6} + 0.02217642052904461 {\\_}_{8} + 0.217600578940028 {\\_}_{7} $"
      ],
      "text/plain": [
       "0.37125494327766306 _[1] - 0.3760340210239671 _[2] + 0.2210600185552158 _[4] + 0.12874505672233694 _[3] + 0.28239942105997207 _[5] + 0.1314433967349732 _[6] + 0.02217642052904461 _[8] + 0.217600578940028 _[7]"
      ]
     },
     "metadata": {},
     "output_type": "display_data"
    }
   ],
   "source": [
    "@objective(\n",
    "    model,\n",
    "    Max,\n",
    "    sum(real(LinearAlgebra.tr(ρ[i] * E[i])) for i in 1:N) / N,\n",
    ")"
   ]
  },
  {
   "cell_type": "code",
   "execution_count": 9,
   "metadata": {},
   "outputs": [
    {
     "data": {
      "text/plain": [
       "* Solver : SCS\n",
       "\n",
       "* Status\n",
       "  Result count       : 1\n",
       "  Termination status : OPTIMAL\n",
       "  Message from the solver:\n",
       "  \"solved\"\n",
       "\n",
       "* Candidate solution (result #1)\n",
       "  Primal status      : FEASIBLE_POINT\n",
       "  Dual status        : FEASIBLE_POINT\n",
       "  Objective value    : 7.86646e-01\n",
       "  Dual objective value : 7.86649e-01\n",
       "\n",
       "* Work counters\n",
       "  Solve time (sec)   : 8.31867e-04\n"
      ]
     },
     "metadata": {},
     "output_type": "display_data"
    }
   ],
   "source": [
    "optimize!(model)\n",
    "assert_is_solved_and_feasible(model)\n",
    "solution_summary(model)"
   ]
  },
  {
   "cell_type": "code",
   "execution_count": 10,
   "metadata": {},
   "outputs": [
    {
     "data": {
      "text/plain": [
       "0.7866461163004466"
      ]
     },
     "metadata": {},
     "output_type": "display_data"
    }
   ],
   "source": [
    "objective_value(model)"
   ]
  },
  {
   "cell_type": "code",
   "execution_count": 11,
   "metadata": {},
   "outputs": [
    {
     "data": {
      "text/plain": [
       "0.7866484041528192"
      ]
     },
     "metadata": {},
     "output_type": "display_data"
    }
   ],
   "source": [
    "0.5 + 0.25 * sum(LinearAlgebra.svdvals(ρ[1] - ρ[2]))"
   ]
  },
  {
   "cell_type": "code",
   "execution_count": 12,
   "metadata": {},
   "outputs": [
    {
     "data": {
      "text/plain": [
       "2-element Vector{Matrix{ComplexF64}}:\n",
       " [0.6549891918985006 + 0.0im -0.4425921869500261 + 0.17345466733798648im; -0.4425921869500261 - 0.17345466733798648im 0.34501078844081623 + 0.0im]\n",
       " [0.3450107984063601 + 0.0im 0.44259218644371934 - 0.1734546668241809im; 0.44259218644371934 + 0.1734546668241809im 0.6549892009423599 + 0.0im]"
      ]
     },
     "metadata": {},
     "output_type": "display_data"
    }
   ],
   "source": [
    "solution = [value.(e) for e in E]"
   ]
  },
  {
   "cell_type": "markdown",
   "metadata": {},
   "source": [
    "## Solving the dual\n",
    "$$\\min\\text{tr[K]}\\\\\n",
    "\\text{s.c. } K \\geq q_i p_i,\\quad i \\in 1,\\ldots,N\n",
    "\n",
    "$$ "
   ]
  },
  {
   "cell_type": "code",
   "execution_count": 13,
   "metadata": {},
   "outputs": [],
   "source": [
    "model_dual = Model(() -> Hypatia.Optimizer(verbose = true))\n",
    "#model_dual = Model(SCS.Optimizer)\n",
    "set_silent(model_dual)"
   ]
  },
  {
   "cell_type": "code",
   "execution_count": 14,
   "metadata": {},
   "outputs": [
    {
     "name": "stdout",
     "output_type": "stream",
     "text": [
      "1\n",
      "2\n"
     ]
    }
   ],
   "source": [
    "K =@variable(model_dual, [1:d, 1:d] in HermitianPSDCone())\n",
    "for i in 1:N\n",
    "    println(i)\n",
    "    @constraint(model_dual, K >= (ρ[i]/N), HermitianPSDCone() )\n",
    "    #@constraint(model_dual, K >= 0, HermitianPSDCone() )\n",
    "    \n",
    "end"
   ]
  },
  {
   "cell_type": "code",
   "execution_count": 15,
   "metadata": {},
   "outputs": [
    {
     "data": {
      "text/plain": [
       "A JuMP Model\n",
       "├ solver: Hypatia\n",
       "├ objective_sense: FEASIBILITY_SENSE\n",
       "├ num_variables: 4\n",
       "├ num_constraints: 3\n",
       "│ ├ Vector{VariableRef} in MOI.HermitianPositiveSemidefiniteConeTriangle: 1\n",
       "│ └ Vector{AffExpr} in MOI.HermitianPositiveSemidefiniteConeTriangle: 2\n",
       "└ Names registered in the model: none"
      ]
     },
     "metadata": {},
     "output_type": "display_data"
    }
   ],
   "source": [
    "model_dual"
   ]
  },
  {
   "cell_type": "code",
   "execution_count": 16,
   "metadata": {},
   "outputs": [
    {
     "data": {
      "text/latex": [
       "$ {\\_}_{1} + {\\_}_{3} $"
      ],
      "text/plain": [
       "_[1] + _[3]"
      ]
     },
     "metadata": {},
     "output_type": "display_data"
    }
   ],
   "source": [
    "@objective(\n",
    "    model_dual,\n",
    "    Min,\n",
    "    real(LinearAlgebra.tr(K))\n",
    ")"
   ]
  },
  {
   "cell_type": "code",
   "execution_count": 17,
   "metadata": {},
   "outputs": [
    {
     "data": {
      "text/plain": [
       "* Solver : Hypatia\n",
       "\n",
       "* Status\n",
       "  Result count       : 1\n",
       "  Termination status : OPTIMAL\n",
       "  Message from the solver:\n",
       "  \"Optimal\"\n",
       "\n",
       "* Candidate solution (result #1)\n",
       "  Primal status      : FEASIBLE_POINT\n",
       "  Dual status        : FEASIBLE_POINT\n",
       "  Objective value    : 7.86648e-01\n",
       "  Dual objective value : 7.86648e-01\n",
       "\n",
       "* Work counters\n",
       "  Solve time (sec)   : 5.68950e+00\n",
       "  Barrier iterations : 9\n"
      ]
     },
     "metadata": {},
     "output_type": "display_data"
    }
   ],
   "source": [
    "optimize!(model_dual)\n",
    "assert_is_solved_and_feasible(model_dual)\n",
    "solution_summary(model_dual)"
   ]
  },
  {
   "cell_type": "code",
   "execution_count": 18,
   "metadata": {},
   "outputs": [
    {
     "name": "stdout",
     "output_type": "stream",
     "text": [
      "0.7866461163004466\n"
     ]
    },
    {
     "data": {
      "text/plain": [
       "0.7866484052877273"
      ]
     },
     "metadata": {},
     "output_type": "display_data"
    }
   ],
   "source": [
    "println(objective_value(model))\n",
    "objective_value(model_dual)"
   ]
  },
  {
   "cell_type": "markdown",
   "metadata": {},
   "source": [
    "## Channel discrimination"
   ]
  },
  {
   "cell_type": "code",
   "execution_count": null,
   "metadata": {},
   "outputs": [
    {
     "data": {
      "text/plain": [
       "4×4×2 Array{ComplexF64, 3}:\n",
       "[:, :, 1] =\n",
       "      1.0+0.0im  0.0+0.0im   0.0+0.0im  0.574456+0.0im\n",
       "      0.0+0.0im  0.0+0.0im   0.0+0.0im       0.0+0.0im\n",
       "      0.0+0.0im  0.0+0.0im  0.67+0.0im       0.0+0.0im\n",
       " 0.574456+0.0im  0.0+0.0im   0.0+0.0im      0.33+0.0im\n",
       "\n",
       "[:, :, 2] =\n",
       " 0.87+0.0im   0.0+0.0im   0.0+0.0im  0.87+0.0im\n",
       "  0.0+0.0im  0.13+0.0im  0.13+0.0im   0.0+0.0im\n",
       "  0.0+0.0im  0.13+0.0im  0.13+0.0im   0.0+0.0im\n",
       " 0.87+0.0im   0.0+0.0im   0.0+0.0im  0.87+0.0im"
      ]
     },
     "metadata": {},
     "output_type": "display_data"
    }
   ],
   "source": [
    "\n",
    "# Construct the Choi operator of an Amplitude Damping channel \n",
    "γ=67/100\n",
    "# Write a Cell with the Kraus operators\n",
    "# Since this map is Completely positive, left and right Choi operators are the same.\n",
    "K0=[1 0; 0 sqrt(1-γ)]\n",
    "K1 = [0 sqrt(γ); 0 0]\n",
    "# Declare the Channels which will be used\n",
    "C1= choi([K0,K1]);\n",
    "\n",
    "# Construct the Choi operator of an Bit Flip channel \n",
    "η=87/100\n",
    "K0=sqrt(η)* LinearAlgebra.I(2)\n",
    "K1=sqrt(1-η)*[0 1; 1 0]\n",
    "\n",
    "C2 = choi([K0,K1])\n",
    "\n",
    "C = Array{ComplexF64}(undef, 4, 4, 2)  # Création d’un tableau 3D vide (2×2×2)\n",
    "\n",
    "C[:, :, 1] = C1\n",
    "C[:, :, 2] = C2\n",
    "\n",
    "N=size(C,3); #Obtain the number of channels N\n",
    "k=2; #Set the number of uses k equals 2\n",
    "\n",
    "\n",
    "\n",
    "display(C)"
   ]
  },
  {
   "cell_type": "code",
   "execution_count": 66,
   "metadata": {},
   "outputs": [
    {
     "name": "stdout",
     "output_type": "stream",
     "text": [
      "2.0 [0.5 0.5]\n"
     ]
    }
   ],
   "source": [
    "d=sqrt(size(C[:,:,1],1));\n",
    "dIn=d;\n",
    "dOut=d;\n",
    "DIM=[d d d d];\n",
    "p_i=ones(1,N)/N;\n",
    "println(d ,\" \", p_i)"
   ]
  },
  {
   "cell_type": "code",
   "execution_count": null,
   "metadata": {},
   "outputs": [
    {
     "name": "stdout",
     "output_type": "stream",
     "text": [
      "2"
     ]
    },
    {
     "data": {
      "text/plain": [
       "2-element Vector{LinearAlgebra.Hermitian{GenericAffExpr{ComplexF64, VariableRef}, Matrix{GenericAffExpr{ComplexF64, VariableRef}}}}:\n",
       " [_[1] _[2] + _[137] im … _[106] + _[228] im _[121] + _[242] im; _[2] - _[137] im _[3] … _[107] + _[229] im _[122] + _[243] im; … ; _[106] - _[228] im _[107] - _[229] im … _[120] _[135] + _[256] im; _[121] - _[242] im _[122] - _[243] im … _[135] - _[256] im _[136]]\n",
       " [_[257] _[258] + _[393] im … _[362] + _[484] im _[377] + _[498] im; _[258] - _[393] im _[259] … _[363] + _[485] im _[378] + _[499] im; … ; _[362] - _[484] im _[363] - _[485] im … _[376] _[391] + _[512] im; _[377] - _[498] im _[378] - _[499] im … _[391] - _[512] im _[392]]"
      ]
     },
     "metadata": {},
     "output_type": "display_data"
    }
   ],
   "source": [
    "model = Model(SCS.Optimizer)\n",
    "T = [@variable(model, [1:Int(dIn^(2*k)), 1:Int(dOut^(2*k))] in HermitianPSDCone()) for i in 1:N]\n",
    "for i=1:N\n",
    "    pS = pS + trace(p_i(i)*T(:,:,i) * Tensor(C(:,:,i),k) );\n",
    "    W = W + T(:,:,i);\n",
    "end"
   ]
  }
 ],
 "metadata": {
  "kernelspec": {
   "display_name": "Julia 1.11.3",
   "language": "julia",
   "name": "julia-1.11"
  },
  "language_info": {
   "file_extension": ".jl",
   "mimetype": "application/julia",
   "name": "julia",
   "version": "1.11.3"
  }
 },
 "nbformat": 4,
 "nbformat_minor": 2
}
