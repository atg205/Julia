{
 "cells": [
  {
   "cell_type": "code",
   "execution_count": 95,
   "metadata": {},
   "outputs": [],
   "source": [
    "using JuMP\n",
    "import LinearAlgebra    \n",
    "import SCS\n",
    "using Hypatia"
   ]
  },
  {
   "cell_type": "code",
   "execution_count": 96,
   "metadata": {},
   "outputs": [
    {
     "data": {
      "text/plain": [
       "(2, 2)"
      ]
     },
     "metadata": {},
     "output_type": "display_data"
    }
   ],
   "source": [
    "N, d = 2, 2"
   ]
  },
  {
   "cell_type": "code",
   "execution_count": 97,
   "metadata": {},
   "outputs": [
    {
     "data": {
      "text/plain": [
       "2-element Vector{LinearAlgebra.Hermitian{ComplexF64, Matrix{ComplexF64}}}:\n",
       " [0.6722154032699733 + 0.0im 0.13214761957409196 - 0.12073621304135652im; 0.13214761957409196 + 0.12073621304135652im 0.3277845967300267 + 0.0im]\n",
       " [0.43731815623576686 + 0.0im -0.3820276329154072 - 0.11806911389396635im; -0.3820276329154072 + 0.11806911389396635im 0.562681843764233 + 0.0im]"
      ]
     },
     "metadata": {},
     "output_type": "display_data"
    }
   ],
   "source": [
    "function random_state(d)\n",
    "    x = randn(ComplexF64, (d, d))\n",
    "    y = x * x'\n",
    "    return LinearAlgebra.Hermitian(y / LinearAlgebra.tr(y))\n",
    "end\n",
    "\n",
    "ρ = [random_state(d) for i in 1:N]\n",
    "#ρ = 0.5 * [LinearAlgebra.Hermitian([[1,0] [0,1]])]\n",
    "#ρ = 0.5 * [[[1,1] [1,1]],[[1,-1] [-1,1]]] # discriminate between plus and minus\n",
    "#ρ = [Hermitian([1 0; 0 0]), 0.5 * Hermitian([1 1; 1 1])] # 0 and plus\n",
    "\n",
    "\n",
    "ρ"
   ]
  },
  {
   "cell_type": "code",
   "execution_count": 98,
   "metadata": {},
   "outputs": [],
   "source": [
    "model = Model(SCS.Optimizer)\n",
    "set_silent(model)"
   ]
  },
  {
   "cell_type": "code",
   "execution_count": 99,
   "metadata": {},
   "outputs": [
    {
     "data": {
      "text/plain": [
       "2-element Vector{LinearAlgebra.Hermitian{GenericAffExpr{ComplexF64, VariableRef}, Matrix{GenericAffExpr{ComplexF64, VariableRef}}}}:\n",
       " [_[1] _[2] + _[4] im; _[2] - _[4] im _[3]]\n",
       " [_[5] _[6] + _[8] im; _[6] - _[8] im _[7]]"
      ]
     },
     "metadata": {},
     "output_type": "display_data"
    }
   ],
   "source": [
    "E = [@variable(model, [1:d, 1:d] in HermitianPSDCone()) for i in 1:N]"
   ]
  },
  {
   "cell_type": "code",
   "execution_count": 100,
   "metadata": {},
   "outputs": [
    {
     "data": {
      "text/latex": [
       "$$ \\begin{bmatrix}\n",
       "{\\_}_{1} + {\\_}_{5} - 1 & {\\_}_{2} + {\\_}_{6} + {\\_}_{4} im + {\\_}_{8} im\\\\\n",
       "{\\_}_{2} + {\\_}_{6} - {\\_}_{4} im - {\\_}_{8} im & {\\_}_{3} + {\\_}_{7} - 1\\\\\n",
       "\\end{bmatrix} \\in \\text{Zeros()} $$"
      ],
      "text/plain": [
       "[_[1] + _[5] - 1                  _[2] + _[6] + _[4] im + _[8] im\n",
       " _[2] + _[6] - _[4] im - _[8] im  _[3] + _[7] - 1] ∈ Zeros()"
      ]
     },
     "metadata": {},
     "output_type": "display_data"
    }
   ],
   "source": [
    "@constraint(model, sum(E) == LinearAlgebra.I)"
   ]
  },
  {
   "cell_type": "code",
   "execution_count": 101,
   "metadata": {},
   "outputs": [
    {
     "data": {
      "text/latex": [
       "$ 0.33610770163498666 {\\_}_{1} + 0.13214761957409196 {\\_}_{2} - 0.12073621304135652 {\\_}_{4} + 0.16389229836501334 {\\_}_{3} + 0.21865907811788343 {\\_}_{5} - 0.3820276329154072 {\\_}_{6} - 0.11806911389396635 {\\_}_{8} + 0.2813409218821165 {\\_}_{7} $"
      ],
      "text/plain": [
       "0.33610770163498666 _[1] + 0.13214761957409196 _[2] - 0.12073621304135652 _[4] + 0.16389229836501334 _[3] + 0.21865907811788343 _[5] - 0.3820276329154072 _[6] - 0.11806911389396635 _[8] + 0.2813409218821165 _[7]"
      ]
     },
     "metadata": {},
     "output_type": "display_data"
    }
   ],
   "source": [
    "@objective(\n",
    "    model,\n",
    "    Max,\n",
    "    sum(real(LinearAlgebra.tr(ρ[i] * E[i])) for i in 1:N) / N,\n",
    ")"
   ]
  },
  {
   "cell_type": "code",
   "execution_count": 102,
   "metadata": {},
   "outputs": [
    {
     "data": {
      "text/plain": [
       "* Solver : SCS\n",
       "\n",
       "* Status\n",
       "  Result count       : 1\n",
       "  Termination status : OPTIMAL\n",
       "  Message from the solver:\n",
       "  \"solved\"\n",
       "\n",
       "* Candidate solution (result #1)\n",
       "  Primal status      : FEASIBLE_POINT\n",
       "  Dual status        : FEASIBLE_POINT\n",
       "  Objective value    : 7.82646e-01\n",
       "  Dual objective value : 7.82649e-01\n",
       "\n",
       "* Work counters\n",
       "  Solve time (sec)   : 5.43291e-04\n"
      ]
     },
     "metadata": {},
     "output_type": "display_data"
    }
   ],
   "source": [
    "optimize!(model)\n",
    "assert_is_solved_and_feasible(model)\n",
    "solution_summary(model)"
   ]
  },
  {
   "cell_type": "code",
   "execution_count": 103,
   "metadata": {},
   "outputs": [
    {
     "data": {
      "text/plain": [
       "0.7826460130379089"
      ]
     },
     "metadata": {},
     "output_type": "display_data"
    }
   ],
   "source": [
    "objective_value(model)"
   ]
  },
  {
   "cell_type": "code",
   "execution_count": 104,
   "metadata": {},
   "outputs": [
    {
     "data": {
      "text/plain": [
       "0.7826482002219151"
      ]
     },
     "metadata": {},
     "output_type": "display_data"
    }
   ],
   "source": [
    "0.5 + 0.25 * sum(LinearAlgebra.svdvals(ρ[1] - ρ[2]))"
   ]
  },
  {
   "cell_type": "code",
   "execution_count": 105,
   "metadata": {},
   "outputs": [
    {
     "data": {
      "text/plain": [
       "2-element Vector{Matrix{ComplexF64}}:\n",
       " [0.7077630695980093 + 0.0im 0.45478025481444745 - 0.002359009223390895im; 0.45478025481444745 + 0.002359009223390895im 0.2922369257376463 + 0.0im]\n",
       " [0.2922369207634908 + 0.0im -0.454780255344185 + 0.0023590087080407477im; -0.454780255344185 - 0.0023590087080407477im 0.7077630642834216 + 0.0im]"
      ]
     },
     "metadata": {},
     "output_type": "display_data"
    }
   ],
   "source": [
    "solution = [value.(e) for e in E]"
   ]
  },
  {
   "cell_type": "markdown",
   "metadata": {},
   "source": [
    "## Solving the dual\n",
    "$$\\min\\text{tr[K]}\\\\\n",
    "\\text{s.c. } K \\geq q_i p_i,\\quad i \\in 1,\\ldots,N\n",
    "\n",
    "$$ "
   ]
  },
  {
   "cell_type": "code",
   "execution_count": 106,
   "metadata": {},
   "outputs": [],
   "source": [
    "model_dual = Model(() -> Hypatia.Optimizer(verbose = true))\n",
    "#model_dual = Model(SCS.Optimizer)\n",
    "set_silent(model_dual)"
   ]
  },
  {
   "cell_type": "code",
   "execution_count": null,
   "metadata": {},
   "outputs": [
    {
     "name": "stdout",
     "output_type": "stream",
     "text": [
      "1\n",
      "2\n"
     ]
    }
   ],
   "source": [
    "K =@variable(model_dual, [1:d, 1:d] in HermitianPSDCone())\n",
    "for i in 1:N\n",
    "    println(i)\n",
    "    @constraint(model_dual, K >= (ρ[i]/N), HermitianPSDCone() )\n",
    "    #@constraint(model_dual, K >= 0, HermitianPSDCone() )\n",
    "    \n",
    "end"
   ]
  },
  {
   "cell_type": "code",
   "execution_count": 108,
   "metadata": {},
   "outputs": [
    {
     "data": {
      "text/plain": [
       "A JuMP Model\n",
       "├ solver: Hypatia\n",
       "├ objective_sense: FEASIBILITY_SENSE\n",
       "├ num_variables: 4\n",
       "├ num_constraints: 3\n",
       "│ ├ Vector{VariableRef} in MOI.HermitianPositiveSemidefiniteConeTriangle: 1\n",
       "│ └ Vector{AffExpr} in MOI.HermitianPositiveSemidefiniteConeTriangle: 2\n",
       "└ Names registered in the model: none"
      ]
     },
     "metadata": {},
     "output_type": "display_data"
    }
   ],
   "source": [
    "model_dual"
   ]
  },
  {
   "cell_type": "code",
   "execution_count": null,
   "metadata": {},
   "outputs": [
    {
     "data": {
      "text/latex": [
       "$ {\\_}_{1} + {\\_}_{3} $"
      ],
      "text/plain": [
       "_[1] + _[3]"
      ]
     },
     "metadata": {},
     "output_type": "display_data"
    }
   ],
   "source": [
    "@objective(\n",
    "    model_dual,\n",
    "    Min,\n",
    "    real(LinearAlgebra.tr(K))\n",
    ")"
   ]
  },
  {
   "cell_type": "code",
   "execution_count": 110,
   "metadata": {},
   "outputs": [
    {
     "data": {
      "text/plain": [
       "* Solver : Hypatia\n",
       "\n",
       "* Status\n",
       "  Result count       : 1\n",
       "  Termination status : OPTIMAL\n",
       "  Message from the solver:\n",
       "  \"Optimal\"\n",
       "\n",
       "* Candidate solution (result #1)\n",
       "  Primal status      : FEASIBLE_POINT\n",
       "  Dual status        : FEASIBLE_POINT\n",
       "  Objective value    : 7.82648e-01\n",
       "  Dual objective value : 7.82648e-01\n",
       "\n",
       "* Work counters\n",
       "  Solve time (sec)   : 1.58405e-03\n",
       "  Barrier iterations : 9\n"
      ]
     },
     "metadata": {},
     "output_type": "display_data"
    }
   ],
   "source": [
    "optimize!(model_dual)\n",
    "assert_is_solved_and_feasible(model_dual)\n",
    "solution_summary(model_dual)"
   ]
  },
  {
   "cell_type": "code",
   "execution_count": 111,
   "metadata": {},
   "outputs": [
    {
     "name": "stdout",
     "output_type": "stream",
     "text": [
      "0.7826460130379089\n"
     ]
    },
    {
     "data": {
      "text/plain": [
       "0.7826482009212222"
      ]
     },
     "metadata": {},
     "output_type": "display_data"
    }
   ],
   "source": [
    "println(objective_value(model))\n",
    "objective_value(model_dual)"
   ]
  },
  {
   "cell_type": "code",
   "execution_count": 29,
   "metadata": {},
   "outputs": [],
   "source": []
  }
 ],
 "metadata": {
  "kernelspec": {
   "display_name": "Julia 1.11.3",
   "language": "julia",
   "name": "julia-1.11"
  },
  "language_info": {
   "file_extension": ".jl",
   "mimetype": "application/julia",
   "name": "julia",
   "version": "1.11.3"
  }
 },
 "nbformat": 4,
 "nbformat_minor": 2
}
