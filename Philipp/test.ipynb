{
 "cells": [
  {
   "cell_type": "code",
   "execution_count": 55,
   "metadata": {},
   "outputs": [],
   "source": [
    "using Ket             \n",
    "using LinearAlgebra             "
   ]
  },
  {
   "cell_type": "code",
   "execution_count": 36,
   "metadata": {},
   "outputs": [
    {
     "data": {
      "text/plain": [
       "2×2 LinearAlgebra.Hermitian{Float64, Matrix{Float64}}:\n",
       " 0.75  0.25\n",
       " 0.25  0.25"
      ]
     },
     "metadata": {},
     "output_type": "display_data"
    }
   ],
   "source": [
    "ρ = (ketbra([1,0])+0.5*ketbra([1,1]))*0.5"
   ]
  },
  {
   "cell_type": "code",
   "execution_count": 52,
   "metadata": {},
   "outputs": [
    {
     "name": "stdout",
     "output_type": "stream",
     "text": [
      "1.0\n",
      "false\n"
     ]
    }
   ],
   "source": [
    "println(Ket.tr(ρ))\n",
    "println(Ket.isposdef(ρ))"
   ]
  },
  {
   "cell_type": "code",
   "execution_count": 49,
   "metadata": {},
   "outputs": [
    {
     "data": {
      "text/plain": [
       "4×4 LinearAlgebra.Hermitian{Float64, Matrix{Float64}}:\n",
       " 0.375      0.0416667  0.0416667  0.208333\n",
       " 0.0416667  0.208333   0.208333   0.0416667\n",
       " 0.0416667  0.208333   0.208333   0.0416667\n",
       " 0.208333   0.0416667  0.0416667  0.208333"
      ]
     },
     "metadata": {},
     "output_type": "display_data"
    }
   ],
   "source": [
    "ρ = ketbra([1,0,0,0]) + 2*1/4*ketbra([1,-1,-1,1]) +3*1/4*ketbra([1,1,1,1]) \n",
    "ρ = ρ  /6"
   ]
  },
  {
   "cell_type": "code",
   "execution_count": 51,
   "metadata": {},
   "outputs": [
    {
     "data": {
      "text/plain": [
       "1.0"
      ]
     },
     "metadata": {},
     "output_type": "display_data"
    }
   ],
   "source": [
    "Ket.tr(ρ)"
   ]
  },
  {
   "cell_type": "code",
   "execution_count": 56,
   "metadata": {},
   "outputs": [
    {
     "data": {
      "text/plain": [
       "2×2 Hermitian{Int64, Matrix{Int64}}:\n",
       " 2   0\n",
       " 0  -1"
      ]
     },
     "metadata": {},
     "output_type": "display_data"
    }
   ],
   "source": [
    "ρ = 2* ketbra([1,0]) - ketbra([0,1])"
   ]
  },
  {
   "cell_type": "code",
   "execution_count": 62,
   "metadata": {},
   "outputs": [
    {
     "data": {
      "text/plain": [
       "4-element Vector{Float64}:\n",
       " -5.660001591138239e-16\n",
       " -1.2325951644078312e-32\n",
       "  1.0888646801245488e-17\n",
       "  3.999999999999999"
      ]
     },
     "metadata": {},
     "output_type": "display_data"
    }
   ],
   "source": [
    "LinearAlgebra.eigvals(ketbra([1,-1,-1,1]))"
   ]
  }
 ],
 "metadata": {
  "kernelspec": {
   "display_name": "Julia 1.11.3",
   "language": "julia",
   "name": "julia-1.11"
  },
  "language_info": {
   "file_extension": ".jl",
   "mimetype": "application/julia",
   "name": "julia",
   "version": "1.11.3"
  }
 },
 "nbformat": 4,
 "nbformat_minor": 2
}
